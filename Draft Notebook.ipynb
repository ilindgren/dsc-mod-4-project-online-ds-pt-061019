{
 "cells": [
  {
   "cell_type": "markdown",
   "metadata": {},
   "source": [
    "# - Module 4 Final Project - \n",
    "# *Zillow Time Series Data Analysis*\n",
    "<br/>\n",
    "Student Name: Isabella Lindgren <br/>\n",
    "Course: Part Time Data Science <br/>\n",
    "Instructor: Eli <br/>\n",
    "Presentation Date: TBD\n"
   ]
  },
  {
   "cell_type": "markdown",
   "metadata": {},
   "source": [
    "## Objective\n",
    "\n",
    "For this project, our goal is to interpret and answer the following question: <br/>\n",
    "> **What are the top 5 zip codes to invest in?**"
   ]
  },
  {
   "cell_type": "markdown",
   "metadata": {},
   "source": [
    "I approached this question as a consultant for Citi Habitats Real Estate in New York City. There are over 100 zipcodes in the five boroughs of New York: the Bronx, Brooklyn, Manhattan, Kings County, and Richmond County (Staten Island). It is important to consider not only the profitability of the area, but the risk factors as well that may influence what makes a \"good\" investment property.  <br/>\n",
    "\n",
    " 1.  Profitability/ROI\n",
    " 2.  Average household income\n",
    " 3.  Vacancies in the area\n",
    " 4.  Rate of Employment in the area"
   ]
  },
  {
   "cell_type": "markdown",
   "metadata": {},
   "source": [
    "# Import Necessary Libraries"
   ]
  },
  {
   "cell_type": "code",
   "execution_count": 61,
   "metadata": {},
   "outputs": [
    {
     "name": "stdout",
     "output_type": "stream",
     "text": [
      "Requirement already satisfied: pyshp in c:\\users\\isali\\anaconda3\\lib\\site-packages (2.1.0)\n"
     ]
    }
   ],
   "source": [
    "import pandas as pd\n",
    "import numpy as np\n",
    "import matplotlib.pyplot as plt\n",
    "import seaborn as sns\n",
    "from statsmodels.tsa.stattools import adfuller\n",
    "from statsmodels.graphics.tsaplots import plot_pacf\n",
    "from statsmodels.graphics.tsaplots import plot_acf\n",
    "from matplotlib.pylab import rcParams\n",
    "plt.style.use('seaborn')\n",
    "from statsmodels.tsa.arima_model import ARMA\n",
    "from statsmodels.tsa.arima_model import ARIMA\n",
    "from statsmodels.tsa.seasonal import seasonal_decompose\n",
    "from statsmodels.tsa.arima_process import arma_generate_sample\n",
    "from sklearn.metrics import mean_squared_error\n",
    "import statsmodels.api as sm\n",
    "import itertools\n",
    "from ast import literal_eval\n",
    "import warnings\n",
    "warnings.filterwarnings(\"ignore\")\n",
    "\n",
    "#!pip install pyshp\n",
    "#import shapefile as shp"
   ]
  },
  {
   "cell_type": "markdown",
   "metadata": {},
   "source": [
    "# Define Useful Functions"
   ]
  },
  {
   "cell_type": "code",
   "execution_count": 66,
   "metadata": {},
   "outputs": [],
   "source": [
    "def get_datetimes(df):\n",
    "    return pd.to_datetime(df.columns.values[1:], format='%Y-%m')"
   ]
  },
  {
   "cell_type": "code",
   "execution_count": 67,
   "metadata": {},
   "outputs": [],
   "source": [
    "# define a function to convert from long format to short format\n",
    "def melt_data(df):\n",
    "    melted = pd.melt(df, id_vars=['RegionID','SizeRank','RegionName', 'City', 'State', 'Metro', 'CountyName'], var_name='time')\n",
    "    melted['time'] = pd.to_datetime(melted['time'], infer_datetime_format=True)\n",
    "    melted.set_index('time',inplace=True)\n",
    "    melted.dropna(inplace=True)\n",
    "    return melted\n",
    "    #return melted.groupby('time').aggregate({'value':'mean'})\n"
   ]
  },
  {
   "cell_type": "code",
   "execution_count": 68,
   "metadata": {},
   "outputs": [],
   "source": [
    "def train_test_split(data):\n",
    "    \n",
    "    train = []\n",
    "    test = []\n",
    "    \n",
    "    for i in range(0, len(data)):\n",
    "    #Split datasets into training and testing\n",
    "        train_df = data.iloc[:training_n]\n",
    "        test_df = data.iloc[training_n:]\n",
    "    \n",
    "    #Append training and test datasets to list\n",
    "        train.append(train_df)\n",
    "        test.append(test_df)\n",
    "    return train, test"
   ]
  },
  {
   "cell_type": "code",
   "execution_count": 69,
   "metadata": {},
   "outputs": [],
   "source": [
    "# Assess stationarity of time series\n",
    "def check_stationarity(df, zipcode):\n",
    "    \n",
    "    # Calculate rolling mean and standard deviation using a 12 month window\n",
    "    rolmean = df.rolling(window=12, center=False).mean()\n",
    "    rolstd = df.rolling(window=12, center=False).std()\n",
    "    \n",
    "    # Plot rolling mean and standard deviation against the original time series data\n",
    "    fig = plt.figure(figsize=(14,7))\n",
    "    original = plt.plot(df, label='Original')\n",
    "    mean = plt.plot(rolmean, label = 'Rolling Mean')\n",
    "    std = plt.plot(rolstd, label = 'Rolling Standard Deviation')\n",
    "    plt.title(f\"Staionarity Check for Zipcode {zipcode}\")\n",
    "    plt.legend()\n",
    "    plt.show(block=False)\n",
    "    \n",
    "    # Conduct a Dickey-Fuller test on time series to provide a statistical measure of stationarity\n",
    "    dftest = adfuller(df['value'])\n",
    "    \n",
    "    # Create an easy-to-read series with key Dickey-Fuller parameters\n",
    "    dfoutput = pd.Series(dftest[0:4], index=['Test Statistic','p-value','#Lags Used','Number of Observations Used'])\n",
    "    \n",
    "    for key,value in dftest[4].items():\n",
    "        dfoutput['Critical Value (%s)'%key] = value\n",
    "    \n",
    "    print('Results of Dickey-Fuller Test')\n",
    "    print(dfoutput)"
   ]
  },
  {
   "cell_type": "code",
   "execution_count": 70,
   "metadata": {},
   "outputs": [],
   "source": [
    "# Assess seasonality of data \n",
    "def check_seasonality(df, col):\n",
    "    # Use Statsmodels seasonal_decompose function to split time series variation into trend, seasonal variation and white noise\n",
    "    result = seasonal_decompose(df)\n",
    "    # Plot Trend, Seasonal and Residual on 3 consecutive axes\n",
    "    result.trend.plot(ax=axes[0][col])\n",
    "    axes[0][col].set_ylabel('Trend')\n",
    "    result.seasonal.plot(ax=axes[1][col])\n",
    "    axes[1][col].set_ylabel('Seasonal')\n",
    "    result.resid.plot(ax=axes[2][col])\n",
    "    axes[2][col].set_ylabel('Residual')"
   ]
  },
  {
   "cell_type": "code",
   "execution_count": 71,
   "metadata": {},
   "outputs": [],
   "source": [
    "# Plot the autocorrelation and partial autocorrelation functions for a given dataset and number of lags\n",
    "def check_autocorrelation(df, lags, col):\n",
    "    plot_acf(df, lags=lags, ax=ax[0][col])\n",
    "    plot_pacf(df, lags=lags, ax=ax[1][col])"
   ]
  },
  {
   "cell_type": "code",
   "execution_count": null,
   "metadata": {},
   "outputs": [],
   "source": []
  },
  {
   "cell_type": "markdown",
   "metadata": {},
   "source": [
    "# Load the Data"
   ]
  },
  {
   "cell_type": "code",
   "execution_count": 72,
   "metadata": {},
   "outputs": [
    {
     "data": {
      "text/html": [
       "<div>\n",
       "<style scoped>\n",
       "    .dataframe tbody tr th:only-of-type {\n",
       "        vertical-align: middle;\n",
       "    }\n",
       "\n",
       "    .dataframe tbody tr th {\n",
       "        vertical-align: top;\n",
       "    }\n",
       "\n",
       "    .dataframe thead th {\n",
       "        text-align: right;\n",
       "    }\n",
       "</style>\n",
       "<table border=\"1\" class=\"dataframe\">\n",
       "  <thead>\n",
       "    <tr style=\"text-align: right;\">\n",
       "      <th></th>\n",
       "      <th>RegionID</th>\n",
       "      <th>RegionName</th>\n",
       "      <th>City</th>\n",
       "      <th>State</th>\n",
       "      <th>Metro</th>\n",
       "      <th>CountyName</th>\n",
       "      <th>SizeRank</th>\n",
       "      <th>1996-04</th>\n",
       "      <th>1996-05</th>\n",
       "      <th>1996-06</th>\n",
       "      <th>...</th>\n",
       "      <th>2017-07</th>\n",
       "      <th>2017-08</th>\n",
       "      <th>2017-09</th>\n",
       "      <th>2017-10</th>\n",
       "      <th>2017-11</th>\n",
       "      <th>2017-12</th>\n",
       "      <th>2018-01</th>\n",
       "      <th>2018-02</th>\n",
       "      <th>2018-03</th>\n",
       "      <th>2018-04</th>\n",
       "    </tr>\n",
       "  </thead>\n",
       "  <tbody>\n",
       "    <tr>\n",
       "      <th>0</th>\n",
       "      <td>84654</td>\n",
       "      <td>60657</td>\n",
       "      <td>Chicago</td>\n",
       "      <td>IL</td>\n",
       "      <td>Chicago</td>\n",
       "      <td>Cook</td>\n",
       "      <td>1</td>\n",
       "      <td>334200.0</td>\n",
       "      <td>335400.0</td>\n",
       "      <td>336500.0</td>\n",
       "      <td>...</td>\n",
       "      <td>1005500</td>\n",
       "      <td>1007500</td>\n",
       "      <td>1007800</td>\n",
       "      <td>1009600</td>\n",
       "      <td>1013300</td>\n",
       "      <td>1018700</td>\n",
       "      <td>1024400</td>\n",
       "      <td>1030700</td>\n",
       "      <td>1033800</td>\n",
       "      <td>1030600</td>\n",
       "    </tr>\n",
       "    <tr>\n",
       "      <th>1</th>\n",
       "      <td>90668</td>\n",
       "      <td>75070</td>\n",
       "      <td>McKinney</td>\n",
       "      <td>TX</td>\n",
       "      <td>Dallas-Fort Worth</td>\n",
       "      <td>Collin</td>\n",
       "      <td>2</td>\n",
       "      <td>235700.0</td>\n",
       "      <td>236900.0</td>\n",
       "      <td>236700.0</td>\n",
       "      <td>...</td>\n",
       "      <td>308000</td>\n",
       "      <td>310000</td>\n",
       "      <td>312500</td>\n",
       "      <td>314100</td>\n",
       "      <td>315000</td>\n",
       "      <td>316600</td>\n",
       "      <td>318100</td>\n",
       "      <td>319600</td>\n",
       "      <td>321100</td>\n",
       "      <td>321800</td>\n",
       "    </tr>\n",
       "    <tr>\n",
       "      <th>2</th>\n",
       "      <td>91982</td>\n",
       "      <td>77494</td>\n",
       "      <td>Katy</td>\n",
       "      <td>TX</td>\n",
       "      <td>Houston</td>\n",
       "      <td>Harris</td>\n",
       "      <td>3</td>\n",
       "      <td>210400.0</td>\n",
       "      <td>212200.0</td>\n",
       "      <td>212200.0</td>\n",
       "      <td>...</td>\n",
       "      <td>321000</td>\n",
       "      <td>320600</td>\n",
       "      <td>320200</td>\n",
       "      <td>320400</td>\n",
       "      <td>320800</td>\n",
       "      <td>321200</td>\n",
       "      <td>321200</td>\n",
       "      <td>323000</td>\n",
       "      <td>326900</td>\n",
       "      <td>329900</td>\n",
       "    </tr>\n",
       "    <tr>\n",
       "      <th>3</th>\n",
       "      <td>84616</td>\n",
       "      <td>60614</td>\n",
       "      <td>Chicago</td>\n",
       "      <td>IL</td>\n",
       "      <td>Chicago</td>\n",
       "      <td>Cook</td>\n",
       "      <td>4</td>\n",
       "      <td>498100.0</td>\n",
       "      <td>500900.0</td>\n",
       "      <td>503100.0</td>\n",
       "      <td>...</td>\n",
       "      <td>1289800</td>\n",
       "      <td>1287700</td>\n",
       "      <td>1287400</td>\n",
       "      <td>1291500</td>\n",
       "      <td>1296600</td>\n",
       "      <td>1299000</td>\n",
       "      <td>1302700</td>\n",
       "      <td>1306400</td>\n",
       "      <td>1308500</td>\n",
       "      <td>1307000</td>\n",
       "    </tr>\n",
       "    <tr>\n",
       "      <th>4</th>\n",
       "      <td>93144</td>\n",
       "      <td>79936</td>\n",
       "      <td>El Paso</td>\n",
       "      <td>TX</td>\n",
       "      <td>El Paso</td>\n",
       "      <td>El Paso</td>\n",
       "      <td>5</td>\n",
       "      <td>77300.0</td>\n",
       "      <td>77300.0</td>\n",
       "      <td>77300.0</td>\n",
       "      <td>...</td>\n",
       "      <td>119100</td>\n",
       "      <td>119400</td>\n",
       "      <td>120000</td>\n",
       "      <td>120300</td>\n",
       "      <td>120300</td>\n",
       "      <td>120300</td>\n",
       "      <td>120300</td>\n",
       "      <td>120500</td>\n",
       "      <td>121000</td>\n",
       "      <td>121500</td>\n",
       "    </tr>\n",
       "  </tbody>\n",
       "</table>\n",
       "<p>5 rows × 272 columns</p>\n",
       "</div>"
      ],
      "text/plain": [
       "   RegionID  RegionName      City State              Metro CountyName  \\\n",
       "0     84654       60657   Chicago    IL            Chicago       Cook   \n",
       "1     90668       75070  McKinney    TX  Dallas-Fort Worth     Collin   \n",
       "2     91982       77494      Katy    TX            Houston     Harris   \n",
       "3     84616       60614   Chicago    IL            Chicago       Cook   \n",
       "4     93144       79936   El Paso    TX            El Paso    El Paso   \n",
       "\n",
       "   SizeRank   1996-04   1996-05   1996-06  ...  2017-07  2017-08  2017-09  \\\n",
       "0         1  334200.0  335400.0  336500.0  ...  1005500  1007500  1007800   \n",
       "1         2  235700.0  236900.0  236700.0  ...   308000   310000   312500   \n",
       "2         3  210400.0  212200.0  212200.0  ...   321000   320600   320200   \n",
       "3         4  498100.0  500900.0  503100.0  ...  1289800  1287700  1287400   \n",
       "4         5   77300.0   77300.0   77300.0  ...   119100   119400   120000   \n",
       "\n",
       "   2017-10  2017-11  2017-12  2018-01  2018-02  2018-03  2018-04  \n",
       "0  1009600  1013300  1018700  1024400  1030700  1033800  1030600  \n",
       "1   314100   315000   316600   318100   319600   321100   321800  \n",
       "2   320400   320800   321200   321200   323000   326900   329900  \n",
       "3  1291500  1296600  1299000  1302700  1306400  1308500  1307000  \n",
       "4   120300   120300   120300   120300   120500   121000   121500  \n",
       "\n",
       "[5 rows x 272 columns]"
      ]
     },
     "execution_count": 72,
     "metadata": {},
     "output_type": "execute_result"
    }
   ],
   "source": [
    "df = pd.read_csv('zillow_data.csv')\n",
    "df.head() # preview"
   ]
  },
  {
   "cell_type": "markdown",
   "metadata": {},
   "source": [
    "We can see from the preview that the data is in a wide format. Each date is a column. This will need to be reformatted in order to perform time series analysis. We can also see that the dates are in YYYY-MM format."
   ]
  },
  {
   "cell_type": "markdown",
   "metadata": {},
   "source": [
    "**Variable Descriptions** <br/>\n",
    " - RegionID: Zipcode\n",
    " - RegionName: Number assigned by Zillow\n",
    " - City: City where zip code is located\n",
    " - State: State where zip code is located\n",
    " - Metro: General Metropolitan Area\n",
    " - CountyName: Name of the county in which the zip code is located\n",
    " - SizeRank: ranks the zip code by degree of urbanization. Higher rank is more urbanized.\n",
    " - The values in the columns of the dates represent the median house cost of that particular zipcode in USD"
   ]
  },
  {
   "cell_type": "markdown",
   "metadata": {},
   "source": [
    "# Data Preprocessing"
   ]
  },
  {
   "cell_type": "markdown",
   "metadata": {},
   "source": [
    "It is important to always ensure that the dataset is clean and as complete as possible in order to create a successful model. First, we will narrow down the dataset so it only includes the scope of the five boroughs of New York. Then, we will identify any missing data and adjust accordingly. "
   ]
  },
  {
   "cell_type": "code",
   "execution_count": 73,
   "metadata": {},
   "outputs": [
    {
     "name": "stdout",
     "output_type": "stream",
     "text": [
      "<class 'pandas.core.frame.DataFrame'>\n",
      "RangeIndex: 14723 entries, 0 to 14722\n",
      "Columns: 272 entries, RegionID to 2018-04\n",
      "dtypes: float64(219), int64(49), object(4)\n",
      "memory usage: 30.6+ MB\n"
     ]
    }
   ],
   "source": [
    "# Let's preview the info of the original dataset\n",
    "# We can see that there are 14723 zipcodes\n",
    "df.info()"
   ]
  },
  {
   "cell_type": "code",
   "execution_count": 74,
   "metadata": {},
   "outputs": [
    {
     "data": {
      "text/html": [
       "<div>\n",
       "<style scoped>\n",
       "    .dataframe tbody tr th:only-of-type {\n",
       "        vertical-align: middle;\n",
       "    }\n",
       "\n",
       "    .dataframe tbody tr th {\n",
       "        vertical-align: top;\n",
       "    }\n",
       "\n",
       "    .dataframe thead th {\n",
       "        text-align: right;\n",
       "    }\n",
       "</style>\n",
       "<table border=\"1\" class=\"dataframe\">\n",
       "  <thead>\n",
       "    <tr style=\"text-align: right;\">\n",
       "      <th></th>\n",
       "      <th>RegionID</th>\n",
       "      <th>RegionName</th>\n",
       "      <th>City</th>\n",
       "      <th>State</th>\n",
       "      <th>Metro</th>\n",
       "      <th>CountyName</th>\n",
       "      <th>SizeRank</th>\n",
       "      <th>1996-04</th>\n",
       "      <th>1996-05</th>\n",
       "      <th>1996-06</th>\n",
       "      <th>...</th>\n",
       "      <th>2017-07</th>\n",
       "      <th>2017-08</th>\n",
       "      <th>2017-09</th>\n",
       "      <th>2017-10</th>\n",
       "      <th>2017-11</th>\n",
       "      <th>2017-12</th>\n",
       "      <th>2018-01</th>\n",
       "      <th>2018-02</th>\n",
       "      <th>2018-03</th>\n",
       "      <th>2018-04</th>\n",
       "    </tr>\n",
       "  </thead>\n",
       "  <tbody>\n",
       "    <tr>\n",
       "      <th>6</th>\n",
       "      <td>61807</td>\n",
       "      <td>10467</td>\n",
       "      <td>New York</td>\n",
       "      <td>NY</td>\n",
       "      <td>New York</td>\n",
       "      <td>Bronx</td>\n",
       "      <td>7</td>\n",
       "      <td>152900.0</td>\n",
       "      <td>152700.0</td>\n",
       "      <td>152600.0</td>\n",
       "      <td>...</td>\n",
       "      <td>394400</td>\n",
       "      <td>400000</td>\n",
       "      <td>407300</td>\n",
       "      <td>411600</td>\n",
       "      <td>413200</td>\n",
       "      <td>414300</td>\n",
       "      <td>413900</td>\n",
       "      <td>411400</td>\n",
       "      <td>413200</td>\n",
       "      <td>417900</td>\n",
       "    </tr>\n",
       "    <tr>\n",
       "      <th>10</th>\n",
       "      <td>62037</td>\n",
       "      <td>11226</td>\n",
       "      <td>New York</td>\n",
       "      <td>NY</td>\n",
       "      <td>New York</td>\n",
       "      <td>Kings</td>\n",
       "      <td>11</td>\n",
       "      <td>162000.0</td>\n",
       "      <td>162300.0</td>\n",
       "      <td>162600.0</td>\n",
       "      <td>...</td>\n",
       "      <td>860200</td>\n",
       "      <td>851000</td>\n",
       "      <td>853900</td>\n",
       "      <td>870000</td>\n",
       "      <td>885100</td>\n",
       "      <td>887800</td>\n",
       "      <td>890500</td>\n",
       "      <td>901700</td>\n",
       "      <td>930700</td>\n",
       "      <td>963200</td>\n",
       "    </tr>\n",
       "    <tr>\n",
       "      <th>12</th>\n",
       "      <td>62087</td>\n",
       "      <td>11375</td>\n",
       "      <td>New York</td>\n",
       "      <td>NY</td>\n",
       "      <td>New York</td>\n",
       "      <td>Queens</td>\n",
       "      <td>13</td>\n",
       "      <td>252400.0</td>\n",
       "      <td>251800.0</td>\n",
       "      <td>251400.0</td>\n",
       "      <td>...</td>\n",
       "      <td>1022600</td>\n",
       "      <td>1033700</td>\n",
       "      <td>1048600</td>\n",
       "      <td>1066400</td>\n",
       "      <td>1081200</td>\n",
       "      <td>1088800</td>\n",
       "      <td>1092700</td>\n",
       "      <td>1089500</td>\n",
       "      <td>1084000</td>\n",
       "      <td>1084600</td>\n",
       "    </tr>\n",
       "    <tr>\n",
       "      <th>13</th>\n",
       "      <td>62045</td>\n",
       "      <td>11235</td>\n",
       "      <td>New York</td>\n",
       "      <td>NY</td>\n",
       "      <td>New York</td>\n",
       "      <td>Kings</td>\n",
       "      <td>14</td>\n",
       "      <td>190500.0</td>\n",
       "      <td>191000.0</td>\n",
       "      <td>191500.0</td>\n",
       "      <td>...</td>\n",
       "      <td>767300</td>\n",
       "      <td>777300</td>\n",
       "      <td>788800</td>\n",
       "      <td>793900</td>\n",
       "      <td>796000</td>\n",
       "      <td>799700</td>\n",
       "      <td>806600</td>\n",
       "      <td>810600</td>\n",
       "      <td>813400</td>\n",
       "      <td>816200</td>\n",
       "    </tr>\n",
       "    <tr>\n",
       "      <th>20</th>\n",
       "      <td>61625</td>\n",
       "      <td>10011</td>\n",
       "      <td>New York</td>\n",
       "      <td>NY</td>\n",
       "      <td>New York</td>\n",
       "      <td>New York</td>\n",
       "      <td>21</td>\n",
       "      <td>NaN</td>\n",
       "      <td>NaN</td>\n",
       "      <td>NaN</td>\n",
       "      <td>...</td>\n",
       "      <td>12137600</td>\n",
       "      <td>12112600</td>\n",
       "      <td>12036600</td>\n",
       "      <td>12050100</td>\n",
       "      <td>12016300</td>\n",
       "      <td>11946500</td>\n",
       "      <td>11978100</td>\n",
       "      <td>11849300</td>\n",
       "      <td>11563000</td>\n",
       "      <td>11478300</td>\n",
       "    </tr>\n",
       "    <tr>\n",
       "      <th>21</th>\n",
       "      <td>61703</td>\n",
       "      <td>10128</td>\n",
       "      <td>New York</td>\n",
       "      <td>NY</td>\n",
       "      <td>New York</td>\n",
       "      <td>New York</td>\n",
       "      <td>22</td>\n",
       "      <td>3676700.0</td>\n",
       "      <td>3704200.0</td>\n",
       "      <td>3729600.0</td>\n",
       "      <td>...</td>\n",
       "      <td>7410100</td>\n",
       "      <td>7422400</td>\n",
       "      <td>7417600</td>\n",
       "      <td>7427300</td>\n",
       "      <td>7371400</td>\n",
       "      <td>7342700</td>\n",
       "      <td>7353300</td>\n",
       "      <td>7350300</td>\n",
       "      <td>7363000</td>\n",
       "      <td>7386600</td>\n",
       "    </tr>\n",
       "    <tr>\n",
       "      <th>35</th>\n",
       "      <td>61802</td>\n",
       "      <td>10462</td>\n",
       "      <td>New York</td>\n",
       "      <td>NY</td>\n",
       "      <td>New York</td>\n",
       "      <td>Bronx</td>\n",
       "      <td>36</td>\n",
       "      <td>154300.0</td>\n",
       "      <td>154300.0</td>\n",
       "      <td>154400.0</td>\n",
       "      <td>...</td>\n",
       "      <td>432800</td>\n",
       "      <td>436100</td>\n",
       "      <td>439900</td>\n",
       "      <td>443500</td>\n",
       "      <td>444100</td>\n",
       "      <td>443900</td>\n",
       "      <td>446000</td>\n",
       "      <td>446400</td>\n",
       "      <td>447200</td>\n",
       "      <td>450200</td>\n",
       "    </tr>\n",
       "    <tr>\n",
       "      <th>36</th>\n",
       "      <td>61796</td>\n",
       "      <td>10456</td>\n",
       "      <td>New York</td>\n",
       "      <td>NY</td>\n",
       "      <td>New York</td>\n",
       "      <td>Bronx</td>\n",
       "      <td>37</td>\n",
       "      <td>NaN</td>\n",
       "      <td>NaN</td>\n",
       "      <td>NaN</td>\n",
       "      <td>...</td>\n",
       "      <td>357900</td>\n",
       "      <td>357100</td>\n",
       "      <td>356500</td>\n",
       "      <td>357200</td>\n",
       "      <td>362000</td>\n",
       "      <td>368500</td>\n",
       "      <td>374100</td>\n",
       "      <td>379800</td>\n",
       "      <td>388100</td>\n",
       "      <td>394400</td>\n",
       "    </tr>\n",
       "    <tr>\n",
       "      <th>46</th>\n",
       "      <td>61803</td>\n",
       "      <td>10463</td>\n",
       "      <td>New York</td>\n",
       "      <td>NY</td>\n",
       "      <td>New York</td>\n",
       "      <td>Bronx</td>\n",
       "      <td>47</td>\n",
       "      <td>180100.0</td>\n",
       "      <td>181000.0</td>\n",
       "      <td>181900.0</td>\n",
       "      <td>...</td>\n",
       "      <td>680800</td>\n",
       "      <td>684500</td>\n",
       "      <td>692000</td>\n",
       "      <td>700900</td>\n",
       "      <td>710200</td>\n",
       "      <td>726900</td>\n",
       "      <td>744500</td>\n",
       "      <td>757000</td>\n",
       "      <td>769400</td>\n",
       "      <td>778700</td>\n",
       "    </tr>\n",
       "    <tr>\n",
       "      <th>47</th>\n",
       "      <td>62040</td>\n",
       "      <td>11230</td>\n",
       "      <td>New York</td>\n",
       "      <td>NY</td>\n",
       "      <td>New York</td>\n",
       "      <td>Kings</td>\n",
       "      <td>48</td>\n",
       "      <td>230100.0</td>\n",
       "      <td>230800.0</td>\n",
       "      <td>231500.0</td>\n",
       "      <td>...</td>\n",
       "      <td>1079200</td>\n",
       "      <td>1082700</td>\n",
       "      <td>1082800</td>\n",
       "      <td>1084900</td>\n",
       "      <td>1091200</td>\n",
       "      <td>1102400</td>\n",
       "      <td>1120200</td>\n",
       "      <td>1141600</td>\n",
       "      <td>1170000</td>\n",
       "      <td>1195400</td>\n",
       "    </tr>\n",
       "  </tbody>\n",
       "</table>\n",
       "<p>10 rows × 272 columns</p>\n",
       "</div>"
      ],
      "text/plain": [
       "    RegionID  RegionName      City State     Metro CountyName  SizeRank  \\\n",
       "6      61807       10467  New York    NY  New York      Bronx         7   \n",
       "10     62037       11226  New York    NY  New York      Kings        11   \n",
       "12     62087       11375  New York    NY  New York     Queens        13   \n",
       "13     62045       11235  New York    NY  New York      Kings        14   \n",
       "20     61625       10011  New York    NY  New York   New York        21   \n",
       "21     61703       10128  New York    NY  New York   New York        22   \n",
       "35     61802       10462  New York    NY  New York      Bronx        36   \n",
       "36     61796       10456  New York    NY  New York      Bronx        37   \n",
       "46     61803       10463  New York    NY  New York      Bronx        47   \n",
       "47     62040       11230  New York    NY  New York      Kings        48   \n",
       "\n",
       "      1996-04    1996-05    1996-06  ...   2017-07   2017-08   2017-09  \\\n",
       "6    152900.0   152700.0   152600.0  ...    394400    400000    407300   \n",
       "10   162000.0   162300.0   162600.0  ...    860200    851000    853900   \n",
       "12   252400.0   251800.0   251400.0  ...   1022600   1033700   1048600   \n",
       "13   190500.0   191000.0   191500.0  ...    767300    777300    788800   \n",
       "20        NaN        NaN        NaN  ...  12137600  12112600  12036600   \n",
       "21  3676700.0  3704200.0  3729600.0  ...   7410100   7422400   7417600   \n",
       "35   154300.0   154300.0   154400.0  ...    432800    436100    439900   \n",
       "36        NaN        NaN        NaN  ...    357900    357100    356500   \n",
       "46   180100.0   181000.0   181900.0  ...    680800    684500    692000   \n",
       "47   230100.0   230800.0   231500.0  ...   1079200   1082700   1082800   \n",
       "\n",
       "     2017-10   2017-11   2017-12   2018-01   2018-02   2018-03   2018-04  \n",
       "6     411600    413200    414300    413900    411400    413200    417900  \n",
       "10    870000    885100    887800    890500    901700    930700    963200  \n",
       "12   1066400   1081200   1088800   1092700   1089500   1084000   1084600  \n",
       "13    793900    796000    799700    806600    810600    813400    816200  \n",
       "20  12050100  12016300  11946500  11978100  11849300  11563000  11478300  \n",
       "21   7427300   7371400   7342700   7353300   7350300   7363000   7386600  \n",
       "35    443500    444100    443900    446000    446400    447200    450200  \n",
       "36    357200    362000    368500    374100    379800    388100    394400  \n",
       "46    700900    710200    726900    744500    757000    769400    778700  \n",
       "47   1084900   1091200   1102400   1120200   1141600   1170000   1195400  \n",
       "\n",
       "[10 rows x 272 columns]"
      ]
     },
     "execution_count": 74,
     "metadata": {},
     "output_type": "execute_result"
    }
   ],
   "source": [
    "# create a query that extracts all data where State is NY, City is New York, and Metro is New York\n",
    "df.query('State ==\"NY\" and City ==\"New York\" and Metro == \"New York\"', inplace = True)\n",
    "df.head(10)"
   ]
  },
  {
   "cell_type": "code",
   "execution_count": 75,
   "metadata": {},
   "outputs": [
    {
     "name": "stdout",
     "output_type": "stream",
     "text": [
      "<class 'pandas.core.frame.DataFrame'>\n",
      "Int64Index: 114 entries, 6 to 11037\n",
      "Columns: 272 entries, RegionID to 2018-04\n",
      "dtypes: float64(219), int64(49), object(4)\n",
      "memory usage: 243.1+ KB\n"
     ]
    }
   ],
   "source": [
    "# Now we can see that there are 114 zipcodes\n",
    "df.info()"
   ]
  },
  {
   "cell_type": "markdown",
   "metadata": {},
   "source": [
    "Now that we have narrowed the scope of our data set, let's check if there are any missing values in our remaining data. "
   ]
  },
  {
   "cell_type": "code",
   "execution_count": 76,
   "metadata": {},
   "outputs": [
    {
     "data": {
      "text/html": [
       "<div>\n",
       "<style scoped>\n",
       "    .dataframe tbody tr th:only-of-type {\n",
       "        vertical-align: middle;\n",
       "    }\n",
       "\n",
       "    .dataframe tbody tr th {\n",
       "        vertical-align: top;\n",
       "    }\n",
       "\n",
       "    .dataframe thead th {\n",
       "        text-align: right;\n",
       "    }\n",
       "</style>\n",
       "<table border=\"1\" class=\"dataframe\">\n",
       "  <thead>\n",
       "    <tr style=\"text-align: right;\">\n",
       "      <th></th>\n",
       "      <th>RegionID</th>\n",
       "      <th>RegionName</th>\n",
       "      <th>City</th>\n",
       "      <th>State</th>\n",
       "      <th>Metro</th>\n",
       "      <th>CountyName</th>\n",
       "      <th>SizeRank</th>\n",
       "      <th>1996-04</th>\n",
       "      <th>1996-05</th>\n",
       "      <th>1996-06</th>\n",
       "      <th>...</th>\n",
       "      <th>2017-07</th>\n",
       "      <th>2017-08</th>\n",
       "      <th>2017-09</th>\n",
       "      <th>2017-10</th>\n",
       "      <th>2017-11</th>\n",
       "      <th>2017-12</th>\n",
       "      <th>2018-01</th>\n",
       "      <th>2018-02</th>\n",
       "      <th>2018-03</th>\n",
       "      <th>2018-04</th>\n",
       "    </tr>\n",
       "  </thead>\n",
       "  <tbody>\n",
       "    <tr>\n",
       "      <th>6</th>\n",
       "      <td>61807</td>\n",
       "      <td>10467</td>\n",
       "      <td>New York</td>\n",
       "      <td>NY</td>\n",
       "      <td>New York</td>\n",
       "      <td>Bronx</td>\n",
       "      <td>7</td>\n",
       "      <td>152900.0</td>\n",
       "      <td>152700.0</td>\n",
       "      <td>152600.0</td>\n",
       "      <td>...</td>\n",
       "      <td>394400</td>\n",
       "      <td>400000</td>\n",
       "      <td>407300</td>\n",
       "      <td>411600</td>\n",
       "      <td>413200</td>\n",
       "      <td>414300</td>\n",
       "      <td>413900</td>\n",
       "      <td>411400</td>\n",
       "      <td>413200</td>\n",
       "      <td>417900</td>\n",
       "    </tr>\n",
       "    <tr>\n",
       "      <th>10</th>\n",
       "      <td>62037</td>\n",
       "      <td>11226</td>\n",
       "      <td>New York</td>\n",
       "      <td>NY</td>\n",
       "      <td>New York</td>\n",
       "      <td>Kings</td>\n",
       "      <td>11</td>\n",
       "      <td>162000.0</td>\n",
       "      <td>162300.0</td>\n",
       "      <td>162600.0</td>\n",
       "      <td>...</td>\n",
       "      <td>860200</td>\n",
       "      <td>851000</td>\n",
       "      <td>853900</td>\n",
       "      <td>870000</td>\n",
       "      <td>885100</td>\n",
       "      <td>887800</td>\n",
       "      <td>890500</td>\n",
       "      <td>901700</td>\n",
       "      <td>930700</td>\n",
       "      <td>963200</td>\n",
       "    </tr>\n",
       "    <tr>\n",
       "      <th>12</th>\n",
       "      <td>62087</td>\n",
       "      <td>11375</td>\n",
       "      <td>New York</td>\n",
       "      <td>NY</td>\n",
       "      <td>New York</td>\n",
       "      <td>Queens</td>\n",
       "      <td>13</td>\n",
       "      <td>252400.0</td>\n",
       "      <td>251800.0</td>\n",
       "      <td>251400.0</td>\n",
       "      <td>...</td>\n",
       "      <td>1022600</td>\n",
       "      <td>1033700</td>\n",
       "      <td>1048600</td>\n",
       "      <td>1066400</td>\n",
       "      <td>1081200</td>\n",
       "      <td>1088800</td>\n",
       "      <td>1092700</td>\n",
       "      <td>1089500</td>\n",
       "      <td>1084000</td>\n",
       "      <td>1084600</td>\n",
       "    </tr>\n",
       "    <tr>\n",
       "      <th>13</th>\n",
       "      <td>62045</td>\n",
       "      <td>11235</td>\n",
       "      <td>New York</td>\n",
       "      <td>NY</td>\n",
       "      <td>New York</td>\n",
       "      <td>Kings</td>\n",
       "      <td>14</td>\n",
       "      <td>190500.0</td>\n",
       "      <td>191000.0</td>\n",
       "      <td>191500.0</td>\n",
       "      <td>...</td>\n",
       "      <td>767300</td>\n",
       "      <td>777300</td>\n",
       "      <td>788800</td>\n",
       "      <td>793900</td>\n",
       "      <td>796000</td>\n",
       "      <td>799700</td>\n",
       "      <td>806600</td>\n",
       "      <td>810600</td>\n",
       "      <td>813400</td>\n",
       "      <td>816200</td>\n",
       "    </tr>\n",
       "    <tr>\n",
       "      <th>20</th>\n",
       "      <td>61625</td>\n",
       "      <td>10011</td>\n",
       "      <td>New York</td>\n",
       "      <td>NY</td>\n",
       "      <td>New York</td>\n",
       "      <td>New York</td>\n",
       "      <td>21</td>\n",
       "      <td>NaN</td>\n",
       "      <td>NaN</td>\n",
       "      <td>NaN</td>\n",
       "      <td>...</td>\n",
       "      <td>12137600</td>\n",
       "      <td>12112600</td>\n",
       "      <td>12036600</td>\n",
       "      <td>12050100</td>\n",
       "      <td>12016300</td>\n",
       "      <td>11946500</td>\n",
       "      <td>11978100</td>\n",
       "      <td>11849300</td>\n",
       "      <td>11563000</td>\n",
       "      <td>11478300</td>\n",
       "    </tr>\n",
       "  </tbody>\n",
       "</table>\n",
       "<p>5 rows × 272 columns</p>\n",
       "</div>"
      ],
      "text/plain": [
       "    RegionID  RegionName      City State     Metro CountyName  SizeRank  \\\n",
       "6      61807       10467  New York    NY  New York      Bronx         7   \n",
       "10     62037       11226  New York    NY  New York      Kings        11   \n",
       "12     62087       11375  New York    NY  New York     Queens        13   \n",
       "13     62045       11235  New York    NY  New York      Kings        14   \n",
       "20     61625       10011  New York    NY  New York   New York        21   \n",
       "\n",
       "     1996-04   1996-05   1996-06  ...   2017-07   2017-08   2017-09   2017-10  \\\n",
       "6   152900.0  152700.0  152600.0  ...    394400    400000    407300    411600   \n",
       "10  162000.0  162300.0  162600.0  ...    860200    851000    853900    870000   \n",
       "12  252400.0  251800.0  251400.0  ...   1022600   1033700   1048600   1066400   \n",
       "13  190500.0  191000.0  191500.0  ...    767300    777300    788800    793900   \n",
       "20       NaN       NaN       NaN  ...  12137600  12112600  12036600  12050100   \n",
       "\n",
       "     2017-11   2017-12   2018-01   2018-02   2018-03   2018-04  \n",
       "6     413200    414300    413900    411400    413200    417900  \n",
       "10    885100    887800    890500    901700    930700    963200  \n",
       "12   1081200   1088800   1092700   1089500   1084000   1084600  \n",
       "13    796000    799700    806600    810600    813400    816200  \n",
       "20  12016300  11946500  11978100  11849300  11563000  11478300  \n",
       "\n",
       "[5 rows x 272 columns]"
      ]
     },
     "execution_count": 76,
     "metadata": {},
     "output_type": "execute_result"
    }
   ],
   "source": [
    "# Let's rename this df to NY_df\n",
    "NY_df = df\n",
    "NY_df.head()"
   ]
  },
  {
   "cell_type": "code",
   "execution_count": 77,
   "metadata": {},
   "outputs": [],
   "source": [
    "# Create a new column with number of missing values for each zipcode\n",
    "cols = list(NY_df.columns[7:])\n",
    "NY_df['NumValuesMissing'] = NY_df[cols].isna().sum(axis=1)"
   ]
  },
  {
   "cell_type": "code",
   "execution_count": 78,
   "metadata": {},
   "outputs": [
    {
     "data": {
      "text/plain": [
       "0      104\n",
       "93       6\n",
       "105      1\n",
       "87       1\n",
       "213      1\n",
       "189      1\n",
       "Name: NumValuesMissing, dtype: int64"
      ]
     },
     "execution_count": 78,
     "metadata": {},
     "output_type": "execute_result"
    }
   ],
   "source": [
    "NY_df['NumValuesMissing'].value_counts()"
   ]
  },
  {
   "cell_type": "markdown",
   "metadata": {},
   "source": [
    "We can see that the majority of zipcodes (104) are not missing any data. 10 zipcodes are missing many (87-213) values. Since these observations are monthly, 12 observations are 1 years worth of data. Since the 10 zipcodes are missing more than a years' worth of data, we will drop them from the data frame."
   ]
  },
  {
   "cell_type": "code",
   "execution_count": 79,
   "metadata": {},
   "outputs": [],
   "source": [
    "# Create dataframe with all the zipcodes missing values\n",
    "missingdata = NY_df[NY_df['NumValuesMissing']>12].sort_values(['NumValuesMissing'], ascending=False)\n",
    "\n",
    "# Drop missing values with more than 1 year of observations missing\n",
    "NY_df.drop(index=missingdata.index, inplace=True)"
   ]
  },
  {
   "cell_type": "code",
   "execution_count": 80,
   "metadata": {},
   "outputs": [
    {
     "data": {
      "text/html": [
       "<div>\n",
       "<style scoped>\n",
       "    .dataframe tbody tr th:only-of-type {\n",
       "        vertical-align: middle;\n",
       "    }\n",
       "\n",
       "    .dataframe tbody tr th {\n",
       "        vertical-align: top;\n",
       "    }\n",
       "\n",
       "    .dataframe thead th {\n",
       "        text-align: right;\n",
       "    }\n",
       "</style>\n",
       "<table border=\"1\" class=\"dataframe\">\n",
       "  <thead>\n",
       "    <tr style=\"text-align: right;\">\n",
       "      <th></th>\n",
       "      <th>RegionID</th>\n",
       "      <th>RegionName</th>\n",
       "      <th>City</th>\n",
       "      <th>State</th>\n",
       "      <th>Metro</th>\n",
       "      <th>CountyName</th>\n",
       "      <th>SizeRank</th>\n",
       "      <th>1996-04</th>\n",
       "      <th>1996-05</th>\n",
       "      <th>1996-06</th>\n",
       "      <th>...</th>\n",
       "      <th>2017-08</th>\n",
       "      <th>2017-09</th>\n",
       "      <th>2017-10</th>\n",
       "      <th>2017-11</th>\n",
       "      <th>2017-12</th>\n",
       "      <th>2018-01</th>\n",
       "      <th>2018-02</th>\n",
       "      <th>2018-03</th>\n",
       "      <th>2018-04</th>\n",
       "      <th>NumValuesMissing</th>\n",
       "    </tr>\n",
       "  </thead>\n",
       "  <tbody>\n",
       "  </tbody>\n",
       "</table>\n",
       "<p>0 rows × 273 columns</p>\n",
       "</div>"
      ],
      "text/plain": [
       "Empty DataFrame\n",
       "Columns: [RegionID, RegionName, City, State, Metro, CountyName, SizeRank, 1996-04, 1996-05, 1996-06, 1996-07, 1996-08, 1996-09, 1996-10, 1996-11, 1996-12, 1997-01, 1997-02, 1997-03, 1997-04, 1997-05, 1997-06, 1997-07, 1997-08, 1997-09, 1997-10, 1997-11, 1997-12, 1998-01, 1998-02, 1998-03, 1998-04, 1998-05, 1998-06, 1998-07, 1998-08, 1998-09, 1998-10, 1998-11, 1998-12, 1999-01, 1999-02, 1999-03, 1999-04, 1999-05, 1999-06, 1999-07, 1999-08, 1999-09, 1999-10, 1999-11, 1999-12, 2000-01, 2000-02, 2000-03, 2000-04, 2000-05, 2000-06, 2000-07, 2000-08, 2000-09, 2000-10, 2000-11, 2000-12, 2001-01, 2001-02, 2001-03, 2001-04, 2001-05, 2001-06, 2001-07, 2001-08, 2001-09, 2001-10, 2001-11, 2001-12, 2002-01, 2002-02, 2002-03, 2002-04, 2002-05, 2002-06, 2002-07, 2002-08, 2002-09, 2002-10, 2002-11, 2002-12, 2003-01, 2003-02, 2003-03, 2003-04, 2003-05, 2003-06, 2003-07, 2003-08, 2003-09, 2003-10, 2003-11, 2003-12, ...]\n",
       "Index: []\n",
       "\n",
       "[0 rows x 273 columns]"
      ]
     },
     "execution_count": 80,
     "metadata": {},
     "output_type": "execute_result"
    }
   ],
   "source": [
    "# Double check that there are no more zipcodes that are missing values\n",
    "NY_df[NY_df['NumValuesMissing']>0]"
   ]
  },
  {
   "cell_type": "markdown",
   "metadata": {},
   "source": [
    "Great! We can see that there are no more zipcodes with missing data. Next, we will transform the dates to datetime format for analysis."
   ]
  },
  {
   "cell_type": "code",
   "execution_count": 81,
   "metadata": {},
   "outputs": [
    {
     "data": {
      "text/plain": [
       "DatetimeIndex(['1996-04-01', '1996-05-01', '1996-06-01', '1996-07-01',\n",
       "               '1996-08-01', '1996-09-01', '1996-10-01', '1996-11-01',\n",
       "               '1996-12-01', '1997-01-01',\n",
       "               ...\n",
       "               '2017-07-01', '2017-08-01', '2017-09-01', '2017-10-01',\n",
       "               '2017-11-01', '2017-12-01', '2018-01-01', '2018-02-01',\n",
       "               '2018-03-01', '2018-04-01'],\n",
       "              dtype='datetime64[ns]', length=265, freq=None)"
      ]
     },
     "execution_count": 81,
     "metadata": {},
     "output_type": "execute_result"
    }
   ],
   "source": [
    "# Let's drop the 'NumValuesMissing' column since it is no longer needed\n",
    "NY_df = NY_df.drop(['NumValuesMissing'], axis=1)\n",
    "\n",
    "# Now let's convert columns with dates to datetime format\n",
    "pd.to_datetime(NY_df.columns[7:], format='%Y-%m')"
   ]
  },
  {
   "cell_type": "markdown",
   "metadata": {},
   "source": [
    "# Zipcode Selection"
   ]
  },
  {
   "cell_type": "markdown",
   "metadata": {},
   "source": [
    "My strategy is to determine which zipcodes are highly ranked in Urbanization, have the greatest mean house price growth historically, and present the lowest risk."
   ]
  },
  {
   "cell_type": "markdown",
   "metadata": {},
   "source": [
    "First, Let's determine which zipcodes are ranked in the top 25% of urbanized areas according to SizeRank."
   ]
  },
  {
   "cell_type": "code",
   "execution_count": 82,
   "metadata": {},
   "outputs": [
    {
     "name": "stdout",
     "output_type": "stream",
     "text": [
      "count      104.000000\n",
      "mean      2961.884615\n",
      "std       2886.991024\n",
      "min          7.000000\n",
      "25%        298.250000\n",
      "50%       2012.500000\n",
      "75%       5170.250000\n",
      "max      11038.000000\n",
      "Name: SizeRank, dtype: float64 \n",
      "\n",
      "Size Rank 25% cutoff value: 298.25\n",
      "Amount of zipcodes: 26\n",
      "Top Urbanized Zipcodes:  [10467 11226 11375 11235 10128 10462 10463 11230 11209 11212 11214 11221\n",
      " 11229 11377 11234 11355 10314 11215 11211 11385 11373 11233 11236 11372\n",
      " 11218 11223]\n"
     ]
    }
   ],
   "source": [
    "#Get zipcodes with a sizerank in the top 25% (highly urbanized zipcodes).\n",
    "print(NY_df.SizeRank.describe(),'\\n')\n",
    "\n",
    "#Calculate the 25% cutoff value.\n",
    "sr_25 = NY_df.SizeRank.quantile(q=0.25)\n",
    "print(f'Size Rank 25% cutoff value: {sr_25}')\n",
    "\n",
    "#Get data frame with selected zipcodes. Keep values and zipcodes only.\n",
    "zc_top25 = NY_df[NY_df['SizeRank']<sr_25].drop(['RegionID','City',\n",
    "                                                       'State','Metro','CountyName',\n",
    "                                                       'SizeRank'],axis=1)\n",
    "print(f'Amount of zipcodes: {len(zc_top25)}')\n",
    "print(\"Top Urbanized Zipcodes: \", zc_top25['RegionName'].unique())"
   ]
  },
  {
   "cell_type": "markdown",
   "metadata": {},
   "source": [
    "Now that we have the top urbanized zip codes, let's look at the median house price in these zipcodes. The zip code's average house price should be between 1.5 decile below and 1.5 decile above the zip code's 1 year median value."
   ]
  },
  {
   "cell_type": "code",
   "execution_count": 83,
   "metadata": {},
   "outputs": [
    {
     "name": "stdout",
     "output_type": "stream",
     "text": [
      "count    2.600000e+01\n",
      "mean     1.107354e+06\n",
      "std      1.333859e+06\n",
      "min      4.033083e+05\n",
      "25%      6.542979e+05\n",
      "50%      8.106083e+05\n",
      "75%      1.007850e+06\n",
      "max      7.377192e+06\n",
      "Name: yr_avg, dtype: float64 \n",
      "\n",
      "Average Value 65% cutoff value: 901597.92\n",
      "Average Value 35% cutoff value: 743947.92\n",
      "Amount of zipcodes: 8\n",
      "Top preferred Zipcodes:  [11226 11235 11214 11377 11355 11373 11233 11372]\n"
     ]
    }
   ],
   "source": [
    "zc_top25['yr_avg']=zc_top25.iloc[:,-12:].mean(skipna=True, axis=1)\n",
    "\n",
    "#Get zipcodes with an average value 1.5 decile above the median and 1.5 deciles below.\n",
    "print(zc_top25['yr_avg'].describe(),'\\n')\n",
    "\n",
    "#Calculate the 65% cutoff value (1 decile above).\n",
    "q_65 = zc_top25['yr_avg'].quantile(q=0.65)\n",
    "print(f'Average Value 65% cutoff value: {round(q_65,2)}')\n",
    "\n",
    "#Calculate the 35% cutoff value (1.5 deciles below).\n",
    "q_35 = zc_top25['yr_avg'].quantile(q=0.35)\n",
    "print(f'Average Value 35% cutoff value: {round(q_35,2)}')\n",
    "\n",
    "#Get data frame with selected zipcodes.\n",
    "zc_pref = zc_top25[(zc_top25['yr_avg']<q_65) & (zc_top25['yr_avg']>q_35)]\n",
    "print(f'Amount of zipcodes: {len(zc_pref)}')\n",
    "\n",
    "print(\"Top preferred Zipcodes: \", zc_pref['RegionName'].unique())"
   ]
  },
  {
   "cell_type": "code",
   "execution_count": 84,
   "metadata": {},
   "outputs": [
    {
     "name": "stdout",
     "output_type": "stream",
     "text": [
      "count    8.000000\n",
      "mean     0.404202\n",
      "std      0.051916\n",
      "min      0.348941\n",
      "25%      0.377986\n",
      "50%      0.383406\n",
      "75%      0.415742\n",
      "max      0.510009\n",
      "Name: CV, dtype: float64\n",
      "\n",
      "CV upper limit: 0.39044914148935705\n",
      "\n",
      " Best 5 Zipcodes:\n"
     ]
    },
    {
     "data": {
      "text/html": [
       "<div>\n",
       "<style scoped>\n",
       "    .dataframe tbody tr th:only-of-type {\n",
       "        vertical-align: middle;\n",
       "    }\n",
       "\n",
       "    .dataframe tbody tr th {\n",
       "        vertical-align: top;\n",
       "    }\n",
       "\n",
       "    .dataframe thead th {\n",
       "        text-align: right;\n",
       "    }\n",
       "</style>\n",
       "<table border=\"1\" class=\"dataframe\">\n",
       "  <thead>\n",
       "    <tr style=\"text-align: right;\">\n",
       "      <th></th>\n",
       "      <th>RegionName</th>\n",
       "      <th>ROI</th>\n",
       "      <th>CV</th>\n",
       "    </tr>\n",
       "  </thead>\n",
       "  <tbody>\n",
       "    <tr>\n",
       "      <th>228</th>\n",
       "      <td>11372</td>\n",
       "      <td>3.531020</td>\n",
       "      <td>0.379479</td>\n",
       "    </tr>\n",
       "    <tr>\n",
       "      <th>140</th>\n",
       "      <td>11373</td>\n",
       "      <td>3.429875</td>\n",
       "      <td>0.379764</td>\n",
       "    </tr>\n",
       "    <tr>\n",
       "      <th>58</th>\n",
       "      <td>11214</td>\n",
       "      <td>3.419372</td>\n",
       "      <td>0.387049</td>\n",
       "    </tr>\n",
       "    <tr>\n",
       "      <th>13</th>\n",
       "      <td>11235</td>\n",
       "      <td>3.284514</td>\n",
       "      <td>0.348941</td>\n",
       "    </tr>\n",
       "    <tr>\n",
       "      <th>85</th>\n",
       "      <td>11377</td>\n",
       "      <td>3.259777</td>\n",
       "      <td>0.373506</td>\n",
       "    </tr>\n",
       "  </tbody>\n",
       "</table>\n",
       "</div>"
      ],
      "text/plain": [
       "     RegionName       ROI        CV\n",
       "228       11372  3.531020  0.379479\n",
       "140       11373  3.429875  0.379764\n",
       "58        11214  3.419372  0.387049\n",
       "13        11235  3.284514  0.348941\n",
       "85        11377  3.259777  0.373506"
      ]
     },
     "execution_count": 84,
     "metadata": {},
     "output_type": "execute_result"
    }
   ],
   "source": [
    "zc_pref['ROI']= (zc_pref['2018-04']/zc_pref['1996-04'])-1\n",
    "\n",
    "#Calculate standard deviation of monthly values\n",
    "zc_pref['std']=zc_pref.loc[:,'1996-04':'2018-04'].std(skipna=True, axis=1)\n",
    "\n",
    "#Calculate historical mean value\n",
    "zc_pref['mean']=zc_pref.loc[:,'1996-04':'2018-04'].mean(skipna=True, axis=1)\n",
    "\n",
    "#Calculate coefficient of variance\n",
    "zc_pref['CV']=zc_pref['std']/zc_pref['mean']\n",
    "\n",
    "#Show calculated values\n",
    "zc_pref[['RegionName','std','mean','ROI','CV']].head()\n",
    "\n",
    "#Descriptive statistics of coefficients of variance.\n",
    "print(zc_pref.CV.describe())\n",
    "#Define upper limit of CV according to risk profile.\n",
    "upper_cv = zc_pref.CV.quantile(.6)\n",
    "print(f'\\nCV upper limit: {upper_cv}')\n",
    "#Get the 5 zipcodes with highest ROIs within the firms risk profile.\n",
    "zc_best5 = zc_pref[zc_pref['CV']<upper_cv].sort_values('ROI',axis=0,ascending=False)[:5]\n",
    "print('\\n Best 5 Zipcodes:')\n",
    "zc_best5[['RegionName','ROI','CV']]"
   ]
  },
  {
   "cell_type": "markdown",
   "metadata": {},
   "source": [
    "Zipcode: 11372 <br/>\n",
    "Location: Jackson Heights, Queens\n",
    "<br/><br/>\n",
    "Zipcode: 11373 <br/>\n",
    "Location: Elmhurst, Queens\n",
    "<br/><br/>\n",
    "Zipcode: 11214 <br/>\n",
    "Location: Bath Beach/Bensonhurst, Brooklyn\n",
    "<br/><br/>\n",
    "Zipcode: 11235 <br/>\n",
    "Location: Brighton Beach/Manhattan Beach/Sheepshead Bay, Brooklyn\n",
    "<br/><br/>\n",
    "Zipcode: 11377 <br/>\n",
    "Location: Woodside, Queens"
   ]
  },
  {
   "cell_type": "code",
   "execution_count": 85,
   "metadata": {},
   "outputs": [],
   "source": [
    "#NY_df.set_index('RegionName')\n",
    "# NY_df.head()\n",
    "#top5_df = NY_df.iloc[NY_df['RegionName'][11372, 11373, 11214, 11235, 11377]]"
   ]
  },
  {
   "cell_type": "code",
   "execution_count": 86,
   "metadata": {},
   "outputs": [
    {
     "data": {
      "text/html": [
       "<div>\n",
       "<style scoped>\n",
       "    .dataframe tbody tr th:only-of-type {\n",
       "        vertical-align: middle;\n",
       "    }\n",
       "\n",
       "    .dataframe tbody tr th {\n",
       "        vertical-align: top;\n",
       "    }\n",
       "\n",
       "    .dataframe thead th {\n",
       "        text-align: right;\n",
       "    }\n",
       "</style>\n",
       "<table border=\"1\" class=\"dataframe\">\n",
       "  <thead>\n",
       "    <tr style=\"text-align: right;\">\n",
       "      <th></th>\n",
       "      <th>RegionName</th>\n",
       "      <th>1996-04</th>\n",
       "      <th>1996-05</th>\n",
       "      <th>1996-06</th>\n",
       "      <th>1996-07</th>\n",
       "      <th>1996-08</th>\n",
       "      <th>1996-09</th>\n",
       "      <th>1996-10</th>\n",
       "      <th>1996-11</th>\n",
       "      <th>1996-12</th>\n",
       "      <th>...</th>\n",
       "      <th>2017-12</th>\n",
       "      <th>2018-01</th>\n",
       "      <th>2018-02</th>\n",
       "      <th>2018-03</th>\n",
       "      <th>2018-04</th>\n",
       "      <th>yr_avg</th>\n",
       "      <th>ROI</th>\n",
       "      <th>std</th>\n",
       "      <th>mean</th>\n",
       "      <th>CV</th>\n",
       "    </tr>\n",
       "  </thead>\n",
       "  <tbody>\n",
       "    <tr>\n",
       "      <th>228</th>\n",
       "      <td>11372</td>\n",
       "      <td>190200.0</td>\n",
       "      <td>190800.0</td>\n",
       "      <td>191700.0</td>\n",
       "      <td>192600.0</td>\n",
       "      <td>193500.0</td>\n",
       "      <td>194300.0</td>\n",
       "      <td>195100.0</td>\n",
       "      <td>196100.0</td>\n",
       "      <td>197300.0</td>\n",
       "      <td>...</td>\n",
       "      <td>845900</td>\n",
       "      <td>841900</td>\n",
       "      <td>848800</td>\n",
       "      <td>860100</td>\n",
       "      <td>861800</td>\n",
       "      <td>845958.333333</td>\n",
       "      <td>3.531020</td>\n",
       "      <td>188423.540817</td>\n",
       "      <td>496531.698113</td>\n",
       "      <td>0.379479</td>\n",
       "    </tr>\n",
       "    <tr>\n",
       "      <th>140</th>\n",
       "      <td>11373</td>\n",
       "      <td>175400.0</td>\n",
       "      <td>175800.0</td>\n",
       "      <td>176400.0</td>\n",
       "      <td>177000.0</td>\n",
       "      <td>177600.0</td>\n",
       "      <td>178200.0</td>\n",
       "      <td>178800.0</td>\n",
       "      <td>179800.0</td>\n",
       "      <td>180900.0</td>\n",
       "      <td>...</td>\n",
       "      <td>766900</td>\n",
       "      <td>773700</td>\n",
       "      <td>776100</td>\n",
       "      <td>775900</td>\n",
       "      <td>777000</td>\n",
       "      <td>760033.333333</td>\n",
       "      <td>3.429875</td>\n",
       "      <td>173459.227313</td>\n",
       "      <td>456755.471698</td>\n",
       "      <td>0.379764</td>\n",
       "    </tr>\n",
       "    <tr>\n",
       "      <th>58</th>\n",
       "      <td>11214</td>\n",
       "      <td>191000.0</td>\n",
       "      <td>191200.0</td>\n",
       "      <td>191500.0</td>\n",
       "      <td>191900.0</td>\n",
       "      <td>192100.0</td>\n",
       "      <td>192400.0</td>\n",
       "      <td>192800.0</td>\n",
       "      <td>193200.0</td>\n",
       "      <td>193800.0</td>\n",
       "      <td>...</td>\n",
       "      <td>826300</td>\n",
       "      <td>827600</td>\n",
       "      <td>830500</td>\n",
       "      <td>837300</td>\n",
       "      <td>844100</td>\n",
       "      <td>817275.000000</td>\n",
       "      <td>3.419372</td>\n",
       "      <td>184170.459178</td>\n",
       "      <td>475832.452830</td>\n",
       "      <td>0.387049</td>\n",
       "    </tr>\n",
       "    <tr>\n",
       "      <th>13</th>\n",
       "      <td>11235</td>\n",
       "      <td>190500.0</td>\n",
       "      <td>191000.0</td>\n",
       "      <td>191500.0</td>\n",
       "      <td>192000.0</td>\n",
       "      <td>192500.0</td>\n",
       "      <td>193000.0</td>\n",
       "      <td>193600.0</td>\n",
       "      <td>194300.0</td>\n",
       "      <td>195300.0</td>\n",
       "      <td>...</td>\n",
       "      <td>799700</td>\n",
       "      <td>806600</td>\n",
       "      <td>810600</td>\n",
       "      <td>813400</td>\n",
       "      <td>816200</td>\n",
       "      <td>789966.666667</td>\n",
       "      <td>3.284514</td>\n",
       "      <td>166512.159532</td>\n",
       "      <td>477193.207547</td>\n",
       "      <td>0.348941</td>\n",
       "    </tr>\n",
       "    <tr>\n",
       "      <th>85</th>\n",
       "      <td>11377</td>\n",
       "      <td>179000.0</td>\n",
       "      <td>178900.0</td>\n",
       "      <td>179000.0</td>\n",
       "      <td>179000.0</td>\n",
       "      <td>179100.0</td>\n",
       "      <td>179200.0</td>\n",
       "      <td>179300.0</td>\n",
       "      <td>179700.0</td>\n",
       "      <td>180200.0</td>\n",
       "      <td>...</td>\n",
       "      <td>749900</td>\n",
       "      <td>750300</td>\n",
       "      <td>753000</td>\n",
       "      <td>758200</td>\n",
       "      <td>762500</td>\n",
       "      <td>745508.333333</td>\n",
       "      <td>3.259777</td>\n",
       "      <td>166911.849275</td>\n",
       "      <td>446878.113208</td>\n",
       "      <td>0.373506</td>\n",
       "    </tr>\n",
       "  </tbody>\n",
       "</table>\n",
       "<p>5 rows × 271 columns</p>\n",
       "</div>"
      ],
      "text/plain": [
       "     RegionName   1996-04   1996-05   1996-06   1996-07   1996-08   1996-09  \\\n",
       "228       11372  190200.0  190800.0  191700.0  192600.0  193500.0  194300.0   \n",
       "140       11373  175400.0  175800.0  176400.0  177000.0  177600.0  178200.0   \n",
       "58        11214  191000.0  191200.0  191500.0  191900.0  192100.0  192400.0   \n",
       "13        11235  190500.0  191000.0  191500.0  192000.0  192500.0  193000.0   \n",
       "85        11377  179000.0  178900.0  179000.0  179000.0  179100.0  179200.0   \n",
       "\n",
       "      1996-10   1996-11   1996-12  ...  2017-12  2018-01  2018-02  2018-03  \\\n",
       "228  195100.0  196100.0  197300.0  ...   845900   841900   848800   860100   \n",
       "140  178800.0  179800.0  180900.0  ...   766900   773700   776100   775900   \n",
       "58   192800.0  193200.0  193800.0  ...   826300   827600   830500   837300   \n",
       "13   193600.0  194300.0  195300.0  ...   799700   806600   810600   813400   \n",
       "85   179300.0  179700.0  180200.0  ...   749900   750300   753000   758200   \n",
       "\n",
       "     2018-04         yr_avg       ROI            std           mean        CV  \n",
       "228   861800  845958.333333  3.531020  188423.540817  496531.698113  0.379479  \n",
       "140   777000  760033.333333  3.429875  173459.227313  456755.471698  0.379764  \n",
       "58    844100  817275.000000  3.419372  184170.459178  475832.452830  0.387049  \n",
       "13    816200  789966.666667  3.284514  166512.159532  477193.207547  0.348941  \n",
       "85    762500  745508.333333  3.259777  166911.849275  446878.113208  0.373506  \n",
       "\n",
       "[5 rows x 271 columns]"
      ]
     },
     "execution_count": 86,
     "metadata": {},
     "output_type": "execute_result"
    }
   ],
   "source": [
    "zc_best5.head(5)"
   ]
  },
  {
   "cell_type": "markdown",
   "metadata": {},
   "source": [
    "# Exploratory Data Analysis and Visualization"
   ]
  },
  {
   "cell_type": "markdown",
   "metadata": {},
   "source": [
    "### Percentage Growth"
   ]
  },
  {
   "cell_type": "markdown",
   "metadata": {},
   "source": [
    "Prior to 2008, the US experienced a major housing bubble caused by inflows of money into housing markets, loose lending conditions, and government policy to promote home-ownership. In 2008, there was a financial crisis in the US and the housing bubble burst causing the largest price drop in homes in history and the worst depression since the Great Depression of the 1930's. The economy and housing market has been recovering since 2008, but the rate of growth is not nearly as great as in the 1990's to early 2000's. It is important to take into account significant historical context when considering our data.\n",
    "<br/><br/>\n",
    "Let's look at the percentage growth in mean house price in two time frames: 1998-2008 and 2008-2018. We can expect to see the growth rate in the first time frame to be larger than the second due to the history. "
   ]
  },
  {
   "cell_type": "code",
   "execution_count": 87,
   "metadata": {},
   "outputs": [
    {
     "name": "stdout",
     "output_type": "stream",
     "text": [
      "The growth in house prices from 2008-2019 in  State\n",
      "NY    34.991451\n",
      "Name: Growth 2008 to 2018, dtype: float64\n",
      "The growth in house prices from 1998-2008 in  State\n",
      "NY    157.84551\n",
      "Name: Growth 1998 to 2008, dtype: float64\n"
     ]
    }
   ],
   "source": [
    "# Create dataframe of mean house price in NY\n",
    "avgpriceNY = NY_df.groupby(['State']).mean()\n",
    "#Drop unnecessary data\n",
    "avgpriceNY.drop(['RegionID', 'RegionName', 'SizeRank'], axis=1, inplace=True)\n",
    "avgpriceNY\n",
    "\n",
    "# Compute % growth across the two specified periods\n",
    "avgpriceNY['Growth 2008 to 2018'] = ((avgpriceNY['2018-04'] - avgpriceNY['2008-01'])/avgpriceNY['2008-01'])*100\n",
    "avgpriceNY['Growth 1998 to 2008'] = ((avgpriceNY['2008-01'] - avgpriceNY['1998-01'])/avgpriceNY['1998-01'])*100\n",
    "\n",
    "print(\"The growth in house prices from 2008-2019 in \", avgpriceNY['Growth 2008 to 2018'])\n",
    "print(\"The growth in house prices from 1998-2008 in \", avgpriceNY['Growth 1998 to 2008'])"
   ]
  },
  {
   "cell_type": "code",
   "execution_count": 88,
   "metadata": {},
   "outputs": [
    {
     "data": {
      "text/html": [
       "<div>\n",
       "<style scoped>\n",
       "    .dataframe tbody tr th:only-of-type {\n",
       "        vertical-align: middle;\n",
       "    }\n",
       "\n",
       "    .dataframe tbody tr th {\n",
       "        vertical-align: top;\n",
       "    }\n",
       "\n",
       "    .dataframe thead th {\n",
       "        text-align: right;\n",
       "    }\n",
       "</style>\n",
       "<table border=\"1\" class=\"dataframe\">\n",
       "  <thead>\n",
       "    <tr style=\"text-align: right;\">\n",
       "      <th></th>\n",
       "      <th>1996-04</th>\n",
       "      <th>1996-05</th>\n",
       "      <th>1996-06</th>\n",
       "      <th>1996-07</th>\n",
       "      <th>1996-08</th>\n",
       "      <th>1996-09</th>\n",
       "      <th>1996-10</th>\n",
       "      <th>1996-11</th>\n",
       "      <th>1996-12</th>\n",
       "      <th>1997-01</th>\n",
       "      <th>...</th>\n",
       "      <th>2017-09</th>\n",
       "      <th>2017-10</th>\n",
       "      <th>2017-11</th>\n",
       "      <th>2017-12</th>\n",
       "      <th>2018-01</th>\n",
       "      <th>2018-02</th>\n",
       "      <th>2018-03</th>\n",
       "      <th>2018-04</th>\n",
       "      <th>Growth 2008 to 2018</th>\n",
       "      <th>Growth 1998 to 2008</th>\n",
       "    </tr>\n",
       "    <tr>\n",
       "      <th>State</th>\n",
       "      <th></th>\n",
       "      <th></th>\n",
       "      <th></th>\n",
       "      <th></th>\n",
       "      <th></th>\n",
       "      <th></th>\n",
       "      <th></th>\n",
       "      <th></th>\n",
       "      <th></th>\n",
       "      <th></th>\n",
       "      <th></th>\n",
       "      <th></th>\n",
       "      <th></th>\n",
       "      <th></th>\n",
       "      <th></th>\n",
       "      <th></th>\n",
       "      <th></th>\n",
       "      <th></th>\n",
       "      <th></th>\n",
       "      <th></th>\n",
       "      <th></th>\n",
       "    </tr>\n",
       "  </thead>\n",
       "  <tbody>\n",
       "    <tr>\n",
       "      <th>NY</th>\n",
       "      <td>214819.230769</td>\n",
       "      <td>215233.653846</td>\n",
       "      <td>215698.076923</td>\n",
       "      <td>216186.538462</td>\n",
       "      <td>216720.192308</td>\n",
       "      <td>217312.5</td>\n",
       "      <td>217988.461538</td>\n",
       "      <td>218839.423077</td>\n",
       "      <td>219902.884615</td>\n",
       "      <td>220883.653846</td>\n",
       "      <td>...</td>\n",
       "      <td>774016.346154</td>\n",
       "      <td>778725.961538</td>\n",
       "      <td>781374.038462</td>\n",
       "      <td>783982.692308</td>\n",
       "      <td>787730.769231</td>\n",
       "      <td>791819.230769</td>\n",
       "      <td>798902.884615</td>\n",
       "      <td>806192.307692</td>\n",
       "      <td>34.991451</td>\n",
       "      <td>157.84551</td>\n",
       "    </tr>\n",
       "  </tbody>\n",
       "</table>\n",
       "<p>1 rows × 267 columns</p>\n",
       "</div>"
      ],
      "text/plain": [
       "             1996-04        1996-05        1996-06        1996-07  \\\n",
       "State                                                               \n",
       "NY     214819.230769  215233.653846  215698.076923  216186.538462   \n",
       "\n",
       "             1996-08   1996-09        1996-10        1996-11        1996-12  \\\n",
       "State                                                                         \n",
       "NY     216720.192308  217312.5  217988.461538  218839.423077  219902.884615   \n",
       "\n",
       "             1997-01  ...        2017-09        2017-10        2017-11  \\\n",
       "State                 ...                                                \n",
       "NY     220883.653846  ...  774016.346154  778725.961538  781374.038462   \n",
       "\n",
       "             2017-12        2018-01        2018-02        2018-03  \\\n",
       "State                                                               \n",
       "NY     783982.692308  787730.769231  791819.230769  798902.884615   \n",
       "\n",
       "             2018-04  Growth 2008 to 2018  Growth 1998 to 2008  \n",
       "State                                                           \n",
       "NY     806192.307692            34.991451            157.84551  \n",
       "\n",
       "[1 rows x 267 columns]"
      ]
     },
     "execution_count": 88,
     "metadata": {},
     "output_type": "execute_result"
    }
   ],
   "source": [
    "avgpriceNY"
   ]
  },
  {
   "cell_type": "markdown",
   "metadata": {},
   "source": [
    "We can see that the percentage in house price growth is much lower from 2008-2018 compared to the percentage growth from 1998-2008. This is consistent with the historical data."
   ]
  },
  {
   "cell_type": "markdown",
   "metadata": {},
   "source": [
    "# May Take Out!!!\n",
    "<br/>It is also important to take into account the demographics of the areas we are looking to invest in. "
   ]
  },
  {
   "cell_type": "code",
   "execution_count": 89,
   "metadata": {},
   "outputs": [
    {
     "data": {
      "text/html": [
       "<div>\n",
       "<style scoped>\n",
       "    .dataframe tbody tr th:only-of-type {\n",
       "        vertical-align: middle;\n",
       "    }\n",
       "\n",
       "    .dataframe tbody tr th {\n",
       "        vertical-align: top;\n",
       "    }\n",
       "\n",
       "    .dataframe thead th {\n",
       "        text-align: right;\n",
       "    }\n",
       "</style>\n",
       "<table border=\"1\" class=\"dataframe\">\n",
       "  <thead>\n",
       "    <tr style=\"text-align: right;\">\n",
       "      <th></th>\n",
       "      <th>Id</th>\n",
       "      <th>Id2</th>\n",
       "      <th>Geography</th>\n",
       "      <th>UnweightedSampleCountPop</th>\n",
       "      <th>HousingUnitsEstimate</th>\n",
       "      <th>TotalPop</th>\n",
       "      <th>WorkerPop</th>\n",
       "      <th>TotalHouseholds</th>\n",
       "      <th>MalePop</th>\n",
       "      <th>FemalePop</th>\n",
       "      <th>TotalFams</th>\n",
       "      <th>EnrolledSchool</th>\n",
       "      <th>BelowPov12</th>\n",
       "      <th>HouseholdIncome</th>\n",
       "      <th>MedianIncome</th>\n",
       "      <th>UnemployRate</th>\n",
       "      <th>HousingUnitNoMortgage</th>\n",
       "    </tr>\n",
       "  </thead>\n",
       "  <tbody>\n",
       "    <tr>\n",
       "      <th>0</th>\n",
       "      <td>0500000US36001</td>\n",
       "      <td>36001</td>\n",
       "      <td>Albany County, New York</td>\n",
       "      <td>24466</td>\n",
       "      <td>10344</td>\n",
       "      <td>308580</td>\n",
       "      <td>223959</td>\n",
       "      <td>291211</td>\n",
       "      <td>149287</td>\n",
       "      <td>159293</td>\n",
       "      <td>68180</td>\n",
       "      <td>83298</td>\n",
       "      <td>36325</td>\n",
       "      <td>125376</td>\n",
       "      <td>125376</td>\n",
       "      <td>5.3</td>\n",
       "      <td>26283</td>\n",
       "    </tr>\n",
       "    <tr>\n",
       "      <th>1</th>\n",
       "      <td>0500000US36003</td>\n",
       "      <td>36003</td>\n",
       "      <td>Allegany County, New York</td>\n",
       "      <td>10383</td>\n",
       "      <td>5138</td>\n",
       "      <td>47400</td>\n",
       "      <td>16564</td>\n",
       "      <td>42404</td>\n",
       "      <td>24013</td>\n",
       "      <td>23387</td>\n",
       "      <td>11808</td>\n",
       "      <td>13739</td>\n",
       "      <td>6992</td>\n",
       "      <td>18124</td>\n",
       "      <td>18124</td>\n",
       "      <td>7.3</td>\n",
       "      <td>7012</td>\n",
       "    </tr>\n",
       "    <tr>\n",
       "      <th>2</th>\n",
       "      <td>0500000US36005</td>\n",
       "      <td>36005</td>\n",
       "      <td>Bronx County, New York</td>\n",
       "      <td>88079</td>\n",
       "      <td>32864</td>\n",
       "      <td>1455846</td>\n",
       "      <td>381671</td>\n",
       "      <td>1413891</td>\n",
       "      <td>685636</td>\n",
       "      <td>770210</td>\n",
       "      <td>326296</td>\n",
       "      <td>406578</td>\n",
       "      <td>422197</td>\n",
       "      <td>495356</td>\n",
       "      <td>495356</td>\n",
       "      <td>11.6</td>\n",
       "      <td>39054</td>\n",
       "    </tr>\n",
       "    <tr>\n",
       "      <th>3</th>\n",
       "      <td>0500000US36007</td>\n",
       "      <td>36007</td>\n",
       "      <td>Broome County, New York</td>\n",
       "      <td>18278</td>\n",
       "      <td>7870</td>\n",
       "      <td>196124</td>\n",
       "      <td>91025</td>\n",
       "      <td>185709</td>\n",
       "      <td>96409</td>\n",
       "      <td>99715</td>\n",
       "      <td>46737</td>\n",
       "      <td>53058</td>\n",
       "      <td>31795</td>\n",
       "      <td>78821</td>\n",
       "      <td>78821</td>\n",
       "      <td>7.2</td>\n",
       "      <td>23175</td>\n",
       "    </tr>\n",
       "    <tr>\n",
       "      <th>4</th>\n",
       "      <td>0500000US36009</td>\n",
       "      <td>36009</td>\n",
       "      <td>Cattaraugus County, New York</td>\n",
       "      <td>14440</td>\n",
       "      <td>7042</td>\n",
       "      <td>78175</td>\n",
       "      <td>29681</td>\n",
       "      <td>75461</td>\n",
       "      <td>38739</td>\n",
       "      <td>39436</td>\n",
       "      <td>19976</td>\n",
       "      <td>18171</td>\n",
       "      <td>12777</td>\n",
       "      <td>31723</td>\n",
       "      <td>31723</td>\n",
       "      <td>7.0</td>\n",
       "      <td>11225</td>\n",
       "    </tr>\n",
       "  </tbody>\n",
       "</table>\n",
       "</div>"
      ],
      "text/plain": [
       "               Id    Id2                     Geography  \\\n",
       "0  0500000US36001  36001       Albany County, New York   \n",
       "1  0500000US36003  36003     Allegany County, New York   \n",
       "2  0500000US36005  36005        Bronx County, New York   \n",
       "3  0500000US36007  36007       Broome County, New York   \n",
       "4  0500000US36009  36009  Cattaraugus County, New York   \n",
       "\n",
       "   UnweightedSampleCountPop  HousingUnitsEstimate  TotalPop  WorkerPop  \\\n",
       "0                     24466                 10344    308580     223959   \n",
       "1                     10383                  5138     47400      16564   \n",
       "2                     88079                 32864   1455846     381671   \n",
       "3                     18278                  7870    196124      91025   \n",
       "4                     14440                  7042     78175      29681   \n",
       "\n",
       "   TotalHouseholds  MalePop  FemalePop  TotalFams  EnrolledSchool  BelowPov12  \\\n",
       "0           291211   149287     159293      68180           83298       36325   \n",
       "1            42404    24013      23387      11808           13739        6992   \n",
       "2          1413891   685636     770210     326296          406578      422197   \n",
       "3           185709    96409      99715      46737           53058       31795   \n",
       "4            75461    38739      39436      19976           18171       12777   \n",
       "\n",
       "   HouseholdIncome  MedianIncome  UnemployRate  HousingUnitNoMortgage  \n",
       "0           125376        125376           5.3                  26283  \n",
       "1            18124         18124           7.3                   7012  \n",
       "2           495356        495356          11.6                  39054  \n",
       "3            78821         78821           7.2                  23175  \n",
       "4            31723         31723           7.0                  11225  "
      ]
     },
     "execution_count": 89,
     "metadata": {},
     "output_type": "execute_result"
    }
   ],
   "source": [
    "# Open source data \n",
    "census_data = pd.read_csv('combined_csv.csv')\n",
    "census_data.head()"
   ]
  },
  {
   "cell_type": "code",
   "execution_count": null,
   "metadata": {},
   "outputs": [],
   "source": []
  },
  {
   "cell_type": "code",
   "execution_count": null,
   "metadata": {},
   "outputs": [],
   "source": []
  },
  {
   "cell_type": "code",
   "execution_count": null,
   "metadata": {},
   "outputs": [],
   "source": []
  },
  {
   "cell_type": "code",
   "execution_count": null,
   "metadata": {},
   "outputs": [],
   "source": []
  },
  {
   "cell_type": "code",
   "execution_count": null,
   "metadata": {},
   "outputs": [],
   "source": []
  },
  {
   "cell_type": "code",
   "execution_count": null,
   "metadata": {},
   "outputs": [],
   "source": []
  },
  {
   "cell_type": "markdown",
   "metadata": {},
   "source": [
    "## Integrating ArcGIS and Python data"
   ]
  },
  {
   "cell_type": "markdown",
   "metadata": {},
   "source": [
    "It may be easier to visualize this data on a map - so I will try to overlay our data on a shapefile taken from https://data.cityofnewyork.us/widgets/i8iw-xf4u using the method described in https://towardsdatascience.com/mapping-geograph-data-in-python-610a963d2d7f"
   ]
  },
  {
   "cell_type": "code",
   "execution_count": 113,
   "metadata": {},
   "outputs": [],
   "source": [
    "# I downloaded the open source shapefile data from the NYC open database and set directory path\n",
    "shp_path = \"\"\"C://Users/isali/Flatiron/Final_Projects/dsc-mod-4-project-online-ds-pt-061019/NYC_Zipcodes_GIS/ZIP_CODE_040114.shp\"\"\"\n",
    "sf = shp.Reader(shp_path) # download shapefile into python"
   ]
  },
  {
   "cell_type": "code",
   "execution_count": 114,
   "metadata": {},
   "outputs": [
    {
     "data": {
      "text/plain": [
       "263"
      ]
     },
     "execution_count": 114,
     "metadata": {},
     "output_type": "execute_result"
    }
   ],
   "source": [
    "len(sf.shapes()) # there are 263 shapes in this shapefile"
   ]
  },
  {
   "cell_type": "code",
   "execution_count": 115,
   "metadata": {},
   "outputs": [
    {
     "data": {
      "text/plain": [
       "Record #1: ['11213', '0', 'Brooklyn', 62426.0, 29631004.437939, 'NY', 'Kings', '36', '047', 'http://www.usps.com/', 0.0, 0.0]"
      ]
     },
     "execution_count": 115,
     "metadata": {},
     "output_type": "execute_result"
    }
   ],
   "source": [
    "sf.records()[1] # We can see the information stored in each shape i.e. zipcode, borough, county etc"
   ]
  },
  {
   "cell_type": "code",
   "execution_count": 116,
   "metadata": {},
   "outputs": [],
   "source": [
    "# Create a function to turn shapefile in pandas dataframe\n",
    "def read_shapefile(sf):\n",
    "    \"\"\"\n",
    "    Read a shapefile into a Pandas dataframe with a 'coords' \n",
    "    column holding the geometry information. This uses the pyshp\n",
    "    package\n",
    "    \"\"\"\n",
    "    fields = [x[0] for x in sf.fields][1:]\n",
    "    records = sf.records()\n",
    "    shps = [s.points for s in sf.shapes()]\n",
    "    sf_df = pd.DataFrame(columns=fields, data=records)\n",
    "    sf_df = sf_df.assign(coords=shps)\n",
    "    return sf_df"
   ]
  },
  {
   "cell_type": "code",
   "execution_count": 117,
   "metadata": {},
   "outputs": [
    {
     "data": {
      "text/plain": [
       "(263, 13)"
      ]
     },
     "execution_count": 117,
     "metadata": {},
     "output_type": "execute_result"
    }
   ],
   "source": [
    "sf_df = read_shapefile(sf)\n",
    "sf_df.shape # we have 13 features for each shape"
   ]
  },
  {
   "cell_type": "code",
   "execution_count": 118,
   "metadata": {},
   "outputs": [
    {
     "data": {
      "text/html": [
       "<div>\n",
       "<style scoped>\n",
       "    .dataframe tbody tr th:only-of-type {\n",
       "        vertical-align: middle;\n",
       "    }\n",
       "\n",
       "    .dataframe tbody tr th {\n",
       "        vertical-align: top;\n",
       "    }\n",
       "\n",
       "    .dataframe thead th {\n",
       "        text-align: right;\n",
       "    }\n",
       "</style>\n",
       "<table border=\"1\" class=\"dataframe\">\n",
       "  <thead>\n",
       "    <tr style=\"text-align: right;\">\n",
       "      <th></th>\n",
       "      <th>ZIPCODE</th>\n",
       "      <th>BLDGZIP</th>\n",
       "      <th>PO_NAME</th>\n",
       "      <th>POPULATION</th>\n",
       "      <th>AREA</th>\n",
       "      <th>STATE</th>\n",
       "      <th>COUNTY</th>\n",
       "      <th>ST_FIPS</th>\n",
       "      <th>CTY_FIPS</th>\n",
       "      <th>URL</th>\n",
       "      <th>SHAPE_AREA</th>\n",
       "      <th>SHAPE_LEN</th>\n",
       "      <th>coords</th>\n",
       "    </tr>\n",
       "  </thead>\n",
       "  <tbody>\n",
       "    <tr>\n",
       "      <th>93</th>\n",
       "      <td>11378</td>\n",
       "      <td>0</td>\n",
       "      <td>Maspeth</td>\n",
       "      <td>35473.0</td>\n",
       "      <td>6.626054e+07</td>\n",
       "      <td>NY</td>\n",
       "      <td>Queens</td>\n",
       "      <td>36</td>\n",
       "      <td>081</td>\n",
       "      <td>http://www.usps.com/</td>\n",
       "      <td>0.0</td>\n",
       "      <td>0.0</td>\n",
       "      <td>[(1008954.7077964842, 205203.58275288343), (10...</td>\n",
       "    </tr>\n",
       "    <tr>\n",
       "      <th>50</th>\n",
       "      <td>10048</td>\n",
       "      <td>0</td>\n",
       "      <td>New York</td>\n",
       "      <td>0.0</td>\n",
       "      <td>9.727884e+05</td>\n",
       "      <td>NY</td>\n",
       "      <td>New York</td>\n",
       "      <td>36</td>\n",
       "      <td>061</td>\n",
       "      <td>http://www.usps.com/</td>\n",
       "      <td>0.0</td>\n",
       "      <td>0.0</td>\n",
       "      <td>[(981026.764964804, 197865.69027645886), (9810...</td>\n",
       "    </tr>\n",
       "    <tr>\n",
       "      <th>230</th>\n",
       "      <td>10106</td>\n",
       "      <td>1</td>\n",
       "      <td>New York</td>\n",
       "      <td>0.0</td>\n",
       "      <td>3.105255e+04</td>\n",
       "      <td>NY</td>\n",
       "      <td>New York</td>\n",
       "      <td>36</td>\n",
       "      <td>061</td>\n",
       "      <td>http://www.usps.com/</td>\n",
       "      <td>0.0</td>\n",
       "      <td>0.0</td>\n",
       "      <td>[(989460.1404864788, 218179.62930729985), (989...</td>\n",
       "    </tr>\n",
       "    <tr>\n",
       "      <th>237</th>\n",
       "      <td>10081</td>\n",
       "      <td>1</td>\n",
       "      <td>New York</td>\n",
       "      <td>0.0</td>\n",
       "      <td>3.024051e+04</td>\n",
       "      <td>NY</td>\n",
       "      <td>New York</td>\n",
       "      <td>36</td>\n",
       "      <td>061</td>\n",
       "      <td>http://www.usps.com/</td>\n",
       "      <td>0.0</td>\n",
       "      <td>0.0</td>\n",
       "      <td>[(981833.8319202214, 197034.0626746267), (9816...</td>\n",
       "    </tr>\n",
       "    <tr>\n",
       "      <th>26</th>\n",
       "      <td>10465</td>\n",
       "      <td>0</td>\n",
       "      <td>Bronx</td>\n",
       "      <td>42012.0</td>\n",
       "      <td>1.084237e+08</td>\n",
       "      <td>NY</td>\n",
       "      <td>Bronx</td>\n",
       "      <td>36</td>\n",
       "      <td>005</td>\n",
       "      <td>http://www.usps.com/</td>\n",
       "      <td>0.0</td>\n",
       "      <td>0.0</td>\n",
       "      <td>[(1028758.8702878058, 243777.01840113103), (10...</td>\n",
       "    </tr>\n",
       "  </tbody>\n",
       "</table>\n",
       "</div>"
      ],
      "text/plain": [
       "    ZIPCODE BLDGZIP   PO_NAME  POPULATION          AREA STATE    COUNTY  \\\n",
       "93    11378       0   Maspeth     35473.0  6.626054e+07    NY    Queens   \n",
       "50    10048       0  New York         0.0  9.727884e+05    NY  New York   \n",
       "230   10106       1  New York         0.0  3.105255e+04    NY  New York   \n",
       "237   10081       1  New York         0.0  3.024051e+04    NY  New York   \n",
       "26    10465       0     Bronx     42012.0  1.084237e+08    NY     Bronx   \n",
       "\n",
       "    ST_FIPS CTY_FIPS                   URL  SHAPE_AREA  SHAPE_LEN  \\\n",
       "93       36      081  http://www.usps.com/         0.0        0.0   \n",
       "50       36      061  http://www.usps.com/         0.0        0.0   \n",
       "230      36      061  http://www.usps.com/         0.0        0.0   \n",
       "237      36      061  http://www.usps.com/         0.0        0.0   \n",
       "26       36      005  http://www.usps.com/         0.0        0.0   \n",
       "\n",
       "                                                coords  \n",
       "93   [(1008954.7077964842, 205203.58275288343), (10...  \n",
       "50   [(981026.764964804, 197865.69027645886), (9810...  \n",
       "230  [(989460.1404864788, 218179.62930729985), (989...  \n",
       "237  [(981833.8319202214, 197034.0626746267), (9816...  \n",
       "26   [(1028758.8702878058, 243777.01840113103), (10...  "
      ]
     },
     "execution_count": 118,
     "metadata": {},
     "output_type": "execute_result"
    }
   ],
   "source": [
    "sf_df.sample(5) #preview of 5 shapes - we can see coordinate data in the last column"
   ]
  },
  {
   "cell_type": "code",
   "execution_count": 119,
   "metadata": {},
   "outputs": [],
   "source": [
    "def plot_shape(id, s=None):\n",
    "    \"\"\" PLOTS A SINGLE SHAPE \n",
    "    This funtion plots the shape (polygon) of the zipcode based on the coordinates \n",
    "    and calculates and returns the medium point of that specific shape (x0, y0) which will \n",
    "    be used to define where to print the index\"\"\"\n",
    "    plt.figure()\n",
    "    ax = plt.axes()\n",
    "    ax.set_aspect('equal')\n",
    "    shape_ex = sf.shape(id)\n",
    "    x_lon = np.zeros((len(shape_ex.points),1))\n",
    "    y_lat = np.zeros((len(shape_ex.points),1))\n",
    "    for ip in range(len(shape_ex.points)):\n",
    "        x_lon[ip] = shape_ex.points[ip][0]\n",
    "        y_lat[ip] = shape_ex.points[ip][1]\n",
    "    plt.plot(x_lon,y_lat) \n",
    "    x0 = np.mean(x_lon)\n",
    "    y0 = np.mean(y_lat)\n",
    "    plt.text(x0, y0, s, fontsize=10)\n",
    "    # use bbox (bounding box) to set plot limits\n",
    "    plt.xlim(shape_ex.bbox[0],shape_ex.bbox[2])\n",
    "    return x0, y0"
   ]
  },
  {
   "cell_type": "code",
   "execution_count": 120,
   "metadata": {},
   "outputs": [],
   "source": [
    "def plot_map(sf, x_lim = None, y_lim = None, figsize = (11,9)):\n",
    "    '''\n",
    "    Plot map with lim coordinates\n",
    "    '''\n",
    "    plt.figure(figsize = figsize)\n",
    "    id=0\n",
    "    for shape in sf.shapeRecords():\n",
    "        x = [i[0] for i in shape.shape.points[:]]\n",
    "        y = [i[1] for i in shape.shape.points[:]]\n",
    "        plt.plot(x, y, 'k')\n",
    "        \n",
    "        if (x_lim == None) & (y_lim == None):\n",
    "            x0 = np.mean(x)\n",
    "            y0 = np.mean(y)\n",
    "            plt.text(x0, y0, id, fontsize=10)\n",
    "        id = id+1\n",
    "    \n",
    "    if (x_lim != None) & (y_lim != None):     \n",
    "        plt.xlim(x_lim)\n",
    "        plt.ylim(y_lim)"
   ]
  },
  {
   "cell_type": "code",
   "execution_count": 121,
   "metadata": {},
   "outputs": [
    {
     "data": {
      "image/png": "[encoded data removed]",
      "text/plain": [
       "<Figure size 792x648 with 1 Axes>"
      ]
     },
     "metadata": {},
     "output_type": "display_data"
    }
   ],
   "source": [
    "plot_map(sf)"
   ]
  },
  {
   "cell_type": "code",
   "execution_count": 122,
   "metadata": {},
   "outputs": [],
   "source": [
    "def calc_color(data, color=None):\n",
    "        if color   == 1: color_sq = ['#dadaebFF','#bcbddcF0','#9e9ac8F0',\n",
    "                        '#807dbaF0','#6a51a3F0','#54278fF0']; colors = 'Purples';\n",
    "        elif color == 2: color_sq = ['#c7e9b4','#7fcdbb','#41b6c4',\n",
    "                        '#1d91c0','#225ea8','#253494']; colors = 'YlGnBu';\n",
    "        elif color == 3: color_sq = ['#f7f7f7','#d9d9d9','#bdbdbd',\n",
    "                        '#969696','#636363','#252525']; colors = 'Greys';\n",
    "        elif color == 9: color_sq = ['#ff0000','#ff0000','#ff0000',\n",
    "                        '#ff0000','#ff0000','#ff0000']\n",
    "        else:           color_sq = ['#ffffd4','#fee391','#fec44f',\n",
    "                        '#fe9929','#d95f0e','#993404']; colors = 'YlOrBr';\n",
    "        new_data, bins = pd.qcut(data, 6, retbins=True, \n",
    "        labels=list(range(6)))\n",
    "        color_ton = []\n",
    "        for val in new_data:\n",
    "            color_ton.append(color_sq[val]) \n",
    "        if color != 9:\n",
    "            colors = sns.color_palette(colors, n_colors=6)\n",
    "            sns.palplot(colors, 0.6);\n",
    "            for i in range(6):\n",
    "                print (\"\\n\"+str(i+1)+': '+str(int(bins[i]))+\n",
    "                       \" => \"+str(int(bins[i+1])-1), end =\" \")\n",
    "            print(\"\\n\\n   1   2   3   4   5   6\")    \n",
    "        return color_ton, bins;"
   ]
  },
  {
   "cell_type": "code",
   "execution_count": 123,
   "metadata": {},
   "outputs": [],
   "source": [
    "def plot_zip_data(sf, title, zipcodes, data=None, \n",
    "                      color=None, print_id=False):\n",
    "    '''\n",
    "    Plot map with selected comunes, using specific color\n",
    "    '''\n",
    "    \n",
    "    color_ton, bins = calc_color(data, color)\n",
    "    df = read_shapefile(sf)\n",
    "    zipcode_id = []\n",
    "    for i in zipcodes:\n",
    "        i = conv_zipcode(i).upper()\n",
    "        zipcode_id.append(df[df.NOM_ZIPCODE == \n",
    "                            i.upper()].index.get_values()[0])\n",
    "    plot_map_fill_multiples_ids_tone(sf, title, zipcode_id, \n",
    "                                     print_id, \n",
    "                                     color_ton, \n",
    "                                     bins, \n",
    "                                     x_lim = None, \n",
    "                                     y_lim = None, \n",
    "                                     figsize = (11,9));"
   ]
  },
  {
   "cell_type": "code",
   "execution_count": 124,
   "metadata": {},
   "outputs": [],
   "source": [
    "def plot_map_fill_multiples_ids_tone(sf, title, comuna,  \n",
    "                                     print_id, color_ton, \n",
    "                                     bins, \n",
    "                                     x_lim = None, \n",
    "                                     y_lim = None, \n",
    "                                     figsize = (11,9)):\n",
    "    '''\n",
    "    Plot map with lim coordinates\n",
    "    '''\n",
    "   \n",
    "    plt.figure(figsize = figsize)\n",
    "    fig, ax = plt.subplots(figsize = figsize)\n",
    "    fig.suptitle(title, fontsize=16)\n",
    "    for shape in sf.shapeRecords():\n",
    "        x = [i[0] for i in shape.shape.points[:]]\n",
    "        y = [i[1] for i in shape.shape.points[:]]\n",
    "        ax.plot(x, y, 'k')\n",
    "            \n",
    "        for id in zipcode:\n",
    "            shape_ex = sf.shape(id)\n",
    "            x_lon = np.zeros((len(shape_ex.points),1))\n",
    "            y_lat = np.zeros((len(shape_ex.points),1))\n",
    "            for ip in range(len(shape_ex.points)):\n",
    "                x_lon[ip] = shape_ex.points[ip][0]\n",
    "                y_lat[ip] = shape_ex.points[ip][1]\n",
    "            ax.fill(x_lon,y_lat, color_ton[zipcode.index(id)])\n",
    "            if print_id != False:\n",
    "                x0 = np.mean(x_lon)\n",
    "                y0 = np.mean(y_lat)\n",
    "                plt.text(x0, y0, id, fontsize=10)\n",
    "        if (x_lim != None) & (y_lim != None):     \n",
    "            plt.xlim(x_lim)\n",
    "            plt.ylim(y_lim)"
   ]
  },
  {
   "cell_type": "code",
   "execution_count": 128,
   "metadata": {},
   "outputs": [
    {
     "name": "stdout",
     "output_type": "stream",
     "text": [
      "\n",
      "1: 3 => 2 \n",
      "2: 3 => 2 \n",
      "3: 3 => 2 \n",
      "4: 3 => 2 \n",
      "5: 3 => 2 \n",
      "6: 3 => 2 \n",
      "\n",
      "   1   2   3   4   5   6\n"
     ]
    },
    {
     "ename": "NameError",
     "evalue": "name 'conv_zipcode' is not defined",
     "output_type": "error",
     "traceback": [
      "\u001b[1;31m---------------------------------------------------------------------------\u001b[0m",
      "\u001b[1;31mNameError\u001b[0m                                 Traceback (most recent call last)",
      "\u001b[1;32m<ipython-input-128-3d5c4306d8e3>\u001b[0m in \u001b[0;36m<module>\u001b[1;34m\u001b[0m\n\u001b[0;32m      4\u001b[0m \u001b[0mprint_id\u001b[0m \u001b[1;33m=\u001b[0m \u001b[1;32mTrue\u001b[0m \u001b[1;31m# The shape id will be printed\u001b[0m\u001b[1;33m\u001b[0m\u001b[1;33m\u001b[0m\u001b[0m\n\u001b[0;32m      5\u001b[0m \u001b[0mcolor_palette\u001b[0m \u001b[1;33m=\u001b[0m \u001b[1;36m1\u001b[0m \u001b[1;31m# 'Purples'\u001b[0m\u001b[1;33m\u001b[0m\u001b[1;33m\u001b[0m\u001b[0m\n\u001b[1;32m----> 6\u001b[1;33m \u001b[0mplot_zip_data\u001b[0m\u001b[1;33m(\u001b[0m\u001b[0msf\u001b[0m\u001b[1;33m,\u001b[0m \u001b[1;34m'ROI Zipcodes'\u001b[0m\u001b[1;33m,\u001b[0m \u001b[0mzipcodes\u001b[0m\u001b[1;33m,\u001b[0m \u001b[0mROI_data\u001b[0m\u001b[1;33m,\u001b[0m \u001b[0mcolor_palette\u001b[0m\u001b[1;33m,\u001b[0m \u001b[0mprint_id\u001b[0m\u001b[1;33m)\u001b[0m\u001b[1;33m\u001b[0m\u001b[1;33m\u001b[0m\u001b[0m\n\u001b[0m",
      "\u001b[1;32m<ipython-input-123-2d5b5738512c>\u001b[0m in \u001b[0;36mplot_zip_data\u001b[1;34m(sf, title, zipcodes, data, color, print_id)\u001b[0m\n\u001b[0;32m      9\u001b[0m     \u001b[0mzipcode_id\u001b[0m \u001b[1;33m=\u001b[0m \u001b[1;33m[\u001b[0m\u001b[1;33m]\u001b[0m\u001b[1;33m\u001b[0m\u001b[1;33m\u001b[0m\u001b[0m\n\u001b[0;32m     10\u001b[0m     \u001b[1;32mfor\u001b[0m \u001b[0mi\u001b[0m \u001b[1;32min\u001b[0m \u001b[0mzipcodes\u001b[0m\u001b[1;33m:\u001b[0m\u001b[1;33m\u001b[0m\u001b[1;33m\u001b[0m\u001b[0m\n\u001b[1;32m---> 11\u001b[1;33m         \u001b[0mi\u001b[0m \u001b[1;33m=\u001b[0m \u001b[0mconv_zipcode\u001b[0m\u001b[1;33m(\u001b[0m\u001b[0mi\u001b[0m\u001b[1;33m)\u001b[0m\u001b[1;33m.\u001b[0m\u001b[0mupper\u001b[0m\u001b[1;33m(\u001b[0m\u001b[1;33m)\u001b[0m\u001b[1;33m\u001b[0m\u001b[1;33m\u001b[0m\u001b[0m\n\u001b[0m\u001b[0;32m     12\u001b[0m         zipcode_id.append(df[df.NOM_ZIPCODE == \n\u001b[0;32m     13\u001b[0m                             i.upper()].index.get_values()[0])\n",
      "\u001b[1;31mNameError\u001b[0m: name 'conv_zipcode' is not defined"
     ]
    },
    {
     "data": {
      "image/png": "[encoded data removed]",
      "text/plain": [
       "<Figure size 259.2x43.2 with 1 Axes>"
      ]
     },
     "metadata": {},
     "output_type": "display_data"
    }
   ],
   "source": [
    "zipcodes = zc_best5['RegionName']\n",
    "ROI_data = zc_best5['ROI']\n",
    "\n",
    "print_id = True # The shape id will be printed\n",
    "color_palette = 1 # 'Purples'\n",
    "plot_zip_data(sf, 'ROI Zipcodes', zipcodes, ROI_data, color_palette, print_id)"
   ]
  },
  {
   "cell_type": "code",
   "execution_count": 129,
   "metadata": {},
   "outputs": [],
   "source": [
    "def plot_map_fill_multiples_ids(title, zipcode, sf, \n",
    "                                               x_lim = None, \n",
    "                                               y_lim = None, \n",
    "                                               figsize = (12,10), \n",
    "                                               color = 'r'):\n",
    "    '''\n",
    "    Plot map with lim coordinates\n",
    "    '''\n",
    "    \n",
    "    plt.figure(figsize = figsize)\n",
    "    fig, ax = plt.subplots(figsize = figsize)\n",
    "    fig.suptitle(title, fontsize=16)\n",
    "    for shape in sf.shapeRecords():\n",
    "        x = [i[0] for i in shape.shape.points[:]]\n",
    "        y = [i[1] for i in shape.shape.points[:]]\n",
    "        ax.plot(x, y, 'k')\n",
    "            \n",
    "    for id in zipcode:\n",
    "        shape_ex = sf.shape(id)\n",
    "        x_lon = np.zeros((len(shape_ex.points),1))\n",
    "        y_lat = np.zeros((len(shape_ex.points),1))\n",
    "        for ip in range(len(shape_ex.points)):\n",
    "            x_lon[ip] = shape_ex.points[ip][0]\n",
    "            y_lat[ip] = shape_ex.points[ip][1]\n",
    "        ax.fill(x_lon,y_lat, color)\n",
    "             \n",
    "        x0 = np.mean(x_lon)\n",
    "        y0 = np.mean(y_lat)\n",
    "        plt.text(x0, y0, id, fontsize=10)\n",
    "    \n",
    "    if (x_lim != None) & (y_lim != None):     \n",
    "        plt.xlim(x_lim)\n",
    "        plt.ylim(y_lim)"
   ]
  },
  {
   "cell_type": "code",
   "execution_count": 127,
   "metadata": {},
   "outputs": [
    {
     "ename": "ValueError",
     "evalue": "Wrong number of items passed 268, placement implies 104",
     "output_type": "error",
     "traceback": [
      "\u001b[1;31m---------------------------------------------------------------------------\u001b[0m",
      "\u001b[1;31mValueError\u001b[0m                                Traceback (most recent call last)",
      "\u001b[1;32m<ipython-input-127-5afe447accb5>\u001b[0m in \u001b[0;36m<module>\u001b[1;34m\u001b[0m\n\u001b[0;32m      1\u001b[0m \u001b[0mtype\u001b[0m\u001b[1;33m(\u001b[0m\u001b[0mzipcodes\u001b[0m\u001b[1;33m)\u001b[0m\u001b[1;33m\u001b[0m\u001b[1;33m\u001b[0m\u001b[0m\n\u001b[1;32m----> 2\u001b[1;33m \u001b[0mzipcodes\u001b[0m \u001b[1;33m=\u001b[0m \u001b[0mpd\u001b[0m\u001b[1;33m.\u001b[0m\u001b[0mSeries\u001b[0m\u001b[1;33m(\u001b[0m\u001b[0mzipcodes\u001b[0m\u001b[1;33m)\u001b[0m\u001b[1;33m.\u001b[0m\u001b[0mvalues\u001b[0m\u001b[1;33m\u001b[0m\u001b[1;33m\u001b[0m\u001b[0m\n\u001b[0m",
      "\u001b[1;32m~\\Anaconda3\\lib\\site-packages\\pandas\\core\\series.py\u001b[0m in \u001b[0;36m__init__\u001b[1;34m(self, data, index, dtype, name, copy, fastpath)\u001b[0m\n\u001b[0;32m    262\u001b[0m                                       raise_cast_failure=True)\n\u001b[0;32m    263\u001b[0m \u001b[1;33m\u001b[0m\u001b[0m\n\u001b[1;32m--> 264\u001b[1;33m                 \u001b[0mdata\u001b[0m \u001b[1;33m=\u001b[0m \u001b[0mSingleBlockManager\u001b[0m\u001b[1;33m(\u001b[0m\u001b[0mdata\u001b[0m\u001b[1;33m,\u001b[0m \u001b[0mindex\u001b[0m\u001b[1;33m,\u001b[0m \u001b[0mfastpath\u001b[0m\u001b[1;33m=\u001b[0m\u001b[1;32mTrue\u001b[0m\u001b[1;33m)\u001b[0m\u001b[1;33m\u001b[0m\u001b[1;33m\u001b[0m\u001b[0m\n\u001b[0m\u001b[0;32m    265\u001b[0m \u001b[1;33m\u001b[0m\u001b[0m\n\u001b[0;32m    266\u001b[0m         \u001b[0mgeneric\u001b[0m\u001b[1;33m.\u001b[0m\u001b[0mNDFrame\u001b[0m\u001b[1;33m.\u001b[0m\u001b[0m__init__\u001b[0m\u001b[1;33m(\u001b[0m\u001b[0mself\u001b[0m\u001b[1;33m,\u001b[0m \u001b[0mdata\u001b[0m\u001b[1;33m,\u001b[0m \u001b[0mfastpath\u001b[0m\u001b[1;33m=\u001b[0m\u001b[1;32mTrue\u001b[0m\u001b[1;33m)\u001b[0m\u001b[1;33m\u001b[0m\u001b[1;33m\u001b[0m\u001b[0m\n",
      "\u001b[1;32m~\\Anaconda3\\lib\\site-packages\\pandas\\core\\internals\\managers.py\u001b[0m in \u001b[0;36m__init__\u001b[1;34m(self, block, axis, do_integrity_check, fastpath)\u001b[0m\n\u001b[0;32m   1479\u001b[0m \u001b[1;33m\u001b[0m\u001b[0m\n\u001b[0;32m   1480\u001b[0m         \u001b[1;32mif\u001b[0m \u001b[1;32mnot\u001b[0m \u001b[0misinstance\u001b[0m\u001b[1;33m(\u001b[0m\u001b[0mblock\u001b[0m\u001b[1;33m,\u001b[0m \u001b[0mBlock\u001b[0m\u001b[1;33m)\u001b[0m\u001b[1;33m:\u001b[0m\u001b[1;33m\u001b[0m\u001b[1;33m\u001b[0m\u001b[0m\n\u001b[1;32m-> 1481\u001b[1;33m             \u001b[0mblock\u001b[0m \u001b[1;33m=\u001b[0m \u001b[0mmake_block\u001b[0m\u001b[1;33m(\u001b[0m\u001b[0mblock\u001b[0m\u001b[1;33m,\u001b[0m \u001b[0mplacement\u001b[0m\u001b[1;33m=\u001b[0m\u001b[0mslice\u001b[0m\u001b[1;33m(\u001b[0m\u001b[1;36m0\u001b[0m\u001b[1;33m,\u001b[0m \u001b[0mlen\u001b[0m\u001b[1;33m(\u001b[0m\u001b[0maxis\u001b[0m\u001b[1;33m)\u001b[0m\u001b[1;33m)\u001b[0m\u001b[1;33m,\u001b[0m \u001b[0mndim\u001b[0m\u001b[1;33m=\u001b[0m\u001b[1;36m1\u001b[0m\u001b[1;33m)\u001b[0m\u001b[1;33m\u001b[0m\u001b[1;33m\u001b[0m\u001b[0m\n\u001b[0m\u001b[0;32m   1482\u001b[0m \u001b[1;33m\u001b[0m\u001b[0m\n\u001b[0;32m   1483\u001b[0m         \u001b[0mself\u001b[0m\u001b[1;33m.\u001b[0m\u001b[0mblocks\u001b[0m \u001b[1;33m=\u001b[0m \u001b[1;33m[\u001b[0m\u001b[0mblock\u001b[0m\u001b[1;33m]\u001b[0m\u001b[1;33m\u001b[0m\u001b[1;33m\u001b[0m\u001b[0m\n",
      "\u001b[1;32m~\\Anaconda3\\lib\\site-packages\\pandas\\core\\internals\\blocks.py\u001b[0m in \u001b[0;36mmake_block\u001b[1;34m(values, placement, klass, ndim, dtype, fastpath)\u001b[0m\n\u001b[0;32m   3093\u001b[0m         \u001b[0mvalues\u001b[0m \u001b[1;33m=\u001b[0m \u001b[0mDatetimeArray\u001b[0m\u001b[1;33m.\u001b[0m\u001b[0m_simple_new\u001b[0m\u001b[1;33m(\u001b[0m\u001b[0mvalues\u001b[0m\u001b[1;33m,\u001b[0m \u001b[0mdtype\u001b[0m\u001b[1;33m=\u001b[0m\u001b[0mdtype\u001b[0m\u001b[1;33m)\u001b[0m\u001b[1;33m\u001b[0m\u001b[1;33m\u001b[0m\u001b[0m\n\u001b[0;32m   3094\u001b[0m \u001b[1;33m\u001b[0m\u001b[0m\n\u001b[1;32m-> 3095\u001b[1;33m     \u001b[1;32mreturn\u001b[0m \u001b[0mklass\u001b[0m\u001b[1;33m(\u001b[0m\u001b[0mvalues\u001b[0m\u001b[1;33m,\u001b[0m \u001b[0mndim\u001b[0m\u001b[1;33m=\u001b[0m\u001b[0mndim\u001b[0m\u001b[1;33m,\u001b[0m \u001b[0mplacement\u001b[0m\u001b[1;33m=\u001b[0m\u001b[0mplacement\u001b[0m\u001b[1;33m)\u001b[0m\u001b[1;33m\u001b[0m\u001b[1;33m\u001b[0m\u001b[0m\n\u001b[0m\u001b[0;32m   3096\u001b[0m \u001b[1;33m\u001b[0m\u001b[0m\n\u001b[0;32m   3097\u001b[0m \u001b[1;33m\u001b[0m\u001b[0m\n",
      "\u001b[1;32m~\\Anaconda3\\lib\\site-packages\\pandas\\core\\internals\\blocks.py\u001b[0m in \u001b[0;36m__init__\u001b[1;34m(self, values, placement, ndim)\u001b[0m\n\u001b[0;32m   2629\u001b[0m \u001b[1;33m\u001b[0m\u001b[0m\n\u001b[0;32m   2630\u001b[0m         super(ObjectBlock, self).__init__(values, ndim=ndim,\n\u001b[1;32m-> 2631\u001b[1;33m                                           placement=placement)\n\u001b[0m\u001b[0;32m   2632\u001b[0m \u001b[1;33m\u001b[0m\u001b[0m\n\u001b[0;32m   2633\u001b[0m     \u001b[1;33m@\u001b[0m\u001b[0mproperty\u001b[0m\u001b[1;33m\u001b[0m\u001b[1;33m\u001b[0m\u001b[0m\n",
      "\u001b[1;32m~\\Anaconda3\\lib\\site-packages\\pandas\\core\\internals\\blocks.py\u001b[0m in \u001b[0;36m__init__\u001b[1;34m(self, values, placement, ndim)\u001b[0m\n\u001b[0;32m     85\u001b[0m             raise ValueError(\n\u001b[0;32m     86\u001b[0m                 \u001b[1;34m'Wrong number of items passed {val}, placement implies '\u001b[0m\u001b[1;33m\u001b[0m\u001b[1;33m\u001b[0m\u001b[0m\n\u001b[1;32m---> 87\u001b[1;33m                 '{mgr}'.format(val=len(self.values), mgr=len(self.mgr_locs)))\n\u001b[0m\u001b[0;32m     88\u001b[0m \u001b[1;33m\u001b[0m\u001b[0m\n\u001b[0;32m     89\u001b[0m     \u001b[1;32mdef\u001b[0m \u001b[0m_check_ndim\u001b[0m\u001b[1;33m(\u001b[0m\u001b[0mself\u001b[0m\u001b[1;33m,\u001b[0m \u001b[0mvalues\u001b[0m\u001b[1;33m,\u001b[0m \u001b[0mndim\u001b[0m\u001b[1;33m)\u001b[0m\u001b[1;33m:\u001b[0m\u001b[1;33m\u001b[0m\u001b[1;33m\u001b[0m\u001b[0m\n",
      "\u001b[1;31mValueError\u001b[0m: Wrong number of items passed 268, placement implies 104"
     ]
    }
   ],
   "source": [
    "type(zipcodes)\n",
    "zipcodes = pd.Series(zipcodes).values"
   ]
  },
  {
   "cell_type": "code",
   "execution_count": null,
   "metadata": {},
   "outputs": [],
   "source": [
    "# zipcode_id = list(zipcodes)\n",
    "# plot_map_fill_multiples_ids(\"Top Zipcodes\", \n",
    "#                             zipcode_id, sf, color = 'r')"
   ]
  },
  {
   "cell_type": "code",
   "execution_count": 105,
   "metadata": {},
   "outputs": [],
   "source": [
    "zipcodes = NY_df.groupby(['RegionID']).mean()"
   ]
  },
  {
   "cell_type": "code",
   "execution_count": 106,
   "metadata": {},
   "outputs": [],
   "source": [
    "# reset the index\n",
    "zipcodes.reset_index(inplace=True)"
   ]
  },
  {
   "cell_type": "markdown",
   "metadata": {},
   "source": [
    "# Reformat Data "
   ]
  },
  {
   "cell_type": "markdown",
   "metadata": {},
   "source": [
    "For time series analysis, we need to change the format from wide to long."
   ]
  },
  {
   "cell_type": "code",
   "execution_count": null,
   "metadata": {},
   "outputs": [],
   "source": []
  },
  {
   "cell_type": "code",
   "execution_count": 107,
   "metadata": {},
   "outputs": [
    {
     "data": {
      "text/html": [
       "<div>\n",
       "<style scoped>\n",
       "    .dataframe tbody tr th:only-of-type {\n",
       "        vertical-align: middle;\n",
       "    }\n",
       "\n",
       "    .dataframe tbody tr th {\n",
       "        vertical-align: top;\n",
       "    }\n",
       "\n",
       "    .dataframe thead th {\n",
       "        text-align: right;\n",
       "    }\n",
       "</style>\n",
       "<table border=\"1\" class=\"dataframe\">\n",
       "  <thead>\n",
       "    <tr style=\"text-align: right;\">\n",
       "      <th></th>\n",
       "      <th>RegionID</th>\n",
       "      <th>SizeRank</th>\n",
       "      <th>RegionName</th>\n",
       "      <th>City</th>\n",
       "      <th>State</th>\n",
       "      <th>Metro</th>\n",
       "      <th>CountyName</th>\n",
       "      <th>value</th>\n",
       "    </tr>\n",
       "    <tr>\n",
       "      <th>time</th>\n",
       "      <th></th>\n",
       "      <th></th>\n",
       "      <th></th>\n",
       "      <th></th>\n",
       "      <th></th>\n",
       "      <th></th>\n",
       "      <th></th>\n",
       "      <th></th>\n",
       "    </tr>\n",
       "  </thead>\n",
       "  <tbody>\n",
       "  </tbody>\n",
       "</table>\n",
       "</div>"
      ],
      "text/plain": [
       "Empty DataFrame\n",
       "Columns: [RegionID, SizeRank, RegionName, City, State, Metro, CountyName, value]\n",
       "Index: []"
      ]
     },
     "execution_count": 107,
     "metadata": {},
     "output_type": "execute_result"
    }
   ],
   "source": [
    "top5_df = pd.DataFrame()\n",
    "for z in zipcodes:\n",
    "    d = melt_data(NY_df[NY_df.RegionName==z])\n",
    "    top5_df = pd.concat([d,top5_df])\n",
    "top5_df.head()"
   ]
  },
  {
   "cell_type": "code",
   "execution_count": 108,
   "metadata": {},
   "outputs": [],
   "source": [
    "top5_df['time'] = top5_df.index"
   ]
  },
  {
   "cell_type": "code",
   "execution_count": 109,
   "metadata": {},
   "outputs": [
    {
     "data": {
      "image/png": "[encoded data removed]",
      "text/plain": [
       "<Figure size 720x432 with 1 Axes>"
      ]
     },
     "metadata": {},
     "output_type": "display_data"
    }
   ],
   "source": [
    "plt.figure(figsize=(10, 6))\n",
    "ax = sns.lineplot(x = 'time', y = 'value', hue=\"RegionName\", data=top5_df)\n",
    "ax.yaxis.set_ticks_position('both')\n",
    "\n",
    "plt.legend(top5_df['RegionName'].unique(), ncol=1, bbox_to_anchor=(1.05, 1));"
   ]
  },
  {
   "cell_type": "code",
   "execution_count": 110,
   "metadata": {},
   "outputs": [],
   "source": [
    "top5_df = pd.DataFrame()\n",
    "for z in zipcodes:\n",
    "    d = melt_data(NY_df[NY_df.RegionName==z])\n",
    "    top5_df = pd.concat([d,top5_df])\n",
    "#top5_df.head()"
   ]
  },
  {
   "cell_type": "code",
   "execution_count": 111,
   "metadata": {},
   "outputs": [
    {
     "ename": "TypeError",
     "evalue": "Empty 'DataFrame': no numeric data to plot",
     "output_type": "error",
     "traceback": [
      "\u001b[1;31m---------------------------------------------------------------------------\u001b[0m",
      "\u001b[1;31mTypeError\u001b[0m                                 Traceback (most recent call last)",
      "\u001b[1;32m<ipython-input-111-05f38834bc53>\u001b[0m in \u001b[0;36m<module>\u001b[1;34m\u001b[0m\n\u001b[1;32m----> 1\u001b[1;33m \u001b[0mtop5_df\u001b[0m\u001b[1;33m.\u001b[0m\u001b[0mvalue\u001b[0m\u001b[1;33m.\u001b[0m\u001b[0mplot\u001b[0m\u001b[1;33m(\u001b[0m\u001b[0mfigsize\u001b[0m\u001b[1;33m=\u001b[0m\u001b[1;33m(\u001b[0m\u001b[1;36m20\u001b[0m\u001b[1;33m,\u001b[0m\u001b[1;36m10\u001b[0m\u001b[1;33m)\u001b[0m\u001b[1;33m,\u001b[0m\u001b[0mlabel\u001b[0m\u001b[1;33m=\u001b[0m\u001b[1;34m'Values'\u001b[0m\u001b[1;33m,\u001b[0m\u001b[0mcolor\u001b[0m\u001b[1;33m=\u001b[0m\u001b[1;34m'blue'\u001b[0m\u001b[1;33m,\u001b[0m\u001b[0malpha\u001b[0m\u001b[1;33m=\u001b[0m\u001b[1;36m0.2\u001b[0m\u001b[1;33m)\u001b[0m\u001b[1;33m\u001b[0m\u001b[1;33m\u001b[0m\u001b[0m\n\u001b[0m\u001b[0;32m      2\u001b[0m \u001b[0mmin_\u001b[0m \u001b[1;33m=\u001b[0m \u001b[0mtop5_df\u001b[0m\u001b[1;33m.\u001b[0m\u001b[0mgroupby\u001b[0m\u001b[1;33m(\u001b[0m\u001b[1;34m'time'\u001b[0m\u001b[1;33m)\u001b[0m\u001b[1;33m.\u001b[0m\u001b[0maggregate\u001b[0m\u001b[1;33m(\u001b[0m\u001b[1;33m{\u001b[0m\u001b[1;34m'value'\u001b[0m\u001b[1;33m:\u001b[0m\u001b[1;34m'min'\u001b[0m\u001b[1;33m}\u001b[0m\u001b[1;33m)\u001b[0m\u001b[1;33m\u001b[0m\u001b[1;33m\u001b[0m\u001b[0m\n\u001b[0;32m      3\u001b[0m \u001b[0mmax_\u001b[0m \u001b[1;33m=\u001b[0m \u001b[0mtop5_df\u001b[0m\u001b[1;33m.\u001b[0m\u001b[0mgroupby\u001b[0m\u001b[1;33m(\u001b[0m\u001b[1;34m'time'\u001b[0m\u001b[1;33m)\u001b[0m\u001b[1;33m.\u001b[0m\u001b[0maggregate\u001b[0m\u001b[1;33m(\u001b[0m\u001b[1;33m{\u001b[0m\u001b[1;34m'value'\u001b[0m\u001b[1;33m:\u001b[0m\u001b[1;34m'max'\u001b[0m\u001b[1;33m}\u001b[0m\u001b[1;33m)\u001b[0m\u001b[1;33m\u001b[0m\u001b[1;33m\u001b[0m\u001b[0m\n\u001b[0;32m      4\u001b[0m \u001b[0mmean_\u001b[0m \u001b[1;33m=\u001b[0m \u001b[0mtop5_df\u001b[0m\u001b[1;33m.\u001b[0m\u001b[0mgroupby\u001b[0m\u001b[1;33m(\u001b[0m\u001b[1;34m'time'\u001b[0m\u001b[1;33m)\u001b[0m\u001b[1;33m.\u001b[0m\u001b[0maggregate\u001b[0m\u001b[1;33m(\u001b[0m\u001b[1;33m{\u001b[0m\u001b[1;34m'value'\u001b[0m\u001b[1;33m:\u001b[0m\u001b[1;34m'mean'\u001b[0m\u001b[1;33m}\u001b[0m\u001b[1;33m)\u001b[0m\u001b[1;33m\u001b[0m\u001b[1;33m\u001b[0m\u001b[0m\n\u001b[0;32m      5\u001b[0m \u001b[0mplt\u001b[0m\u001b[1;33m.\u001b[0m\u001b[0mplot\u001b[0m\u001b[1;33m(\u001b[0m\u001b[0mmin_\u001b[0m\u001b[1;33m,\u001b[0m \u001b[0mcolor\u001b[0m\u001b[1;33m=\u001b[0m \u001b[1;34m'red'\u001b[0m\u001b[1;33m,\u001b[0m\u001b[0mlabel\u001b[0m\u001b[1;33m=\u001b[0m\u001b[1;34m'Min'\u001b[0m\u001b[1;33m)\u001b[0m\u001b[1;33m\u001b[0m\u001b[1;33m\u001b[0m\u001b[0m\n",
      "\u001b[1;32m~\\Anaconda3\\lib\\site-packages\\pandas\\plotting\\_core.py\u001b[0m in \u001b[0;36m__call__\u001b[1;34m(self, kind, ax, figsize, use_index, title, grid, legend, style, logx, logy, loglog, xticks, yticks, xlim, ylim, rot, fontsize, colormap, table, yerr, xerr, label, secondary_y, **kwds)\u001b[0m\n\u001b[0;32m   2740\u001b[0m                            \u001b[0mcolormap\u001b[0m\u001b[1;33m=\u001b[0m\u001b[0mcolormap\u001b[0m\u001b[1;33m,\u001b[0m \u001b[0mtable\u001b[0m\u001b[1;33m=\u001b[0m\u001b[0mtable\u001b[0m\u001b[1;33m,\u001b[0m \u001b[0myerr\u001b[0m\u001b[1;33m=\u001b[0m\u001b[0myerr\u001b[0m\u001b[1;33m,\u001b[0m\u001b[1;33m\u001b[0m\u001b[1;33m\u001b[0m\u001b[0m\n\u001b[0;32m   2741\u001b[0m                            \u001b[0mxerr\u001b[0m\u001b[1;33m=\u001b[0m\u001b[0mxerr\u001b[0m\u001b[1;33m,\u001b[0m \u001b[0mlabel\u001b[0m\u001b[1;33m=\u001b[0m\u001b[0mlabel\u001b[0m\u001b[1;33m,\u001b[0m \u001b[0msecondary_y\u001b[0m\u001b[1;33m=\u001b[0m\u001b[0msecondary_y\u001b[0m\u001b[1;33m,\u001b[0m\u001b[1;33m\u001b[0m\u001b[1;33m\u001b[0m\u001b[0m\n\u001b[1;32m-> 2742\u001b[1;33m                            **kwds)\n\u001b[0m\u001b[0;32m   2743\u001b[0m     \u001b[0m__call__\u001b[0m\u001b[1;33m.\u001b[0m\u001b[0m__doc__\u001b[0m \u001b[1;33m=\u001b[0m \u001b[0mplot_series\u001b[0m\u001b[1;33m.\u001b[0m\u001b[0m__doc__\u001b[0m\u001b[1;33m\u001b[0m\u001b[1;33m\u001b[0m\u001b[0m\n\u001b[0;32m   2744\u001b[0m \u001b[1;33m\u001b[0m\u001b[0m\n",
      "\u001b[1;32m~\\Anaconda3\\lib\\site-packages\\pandas\\plotting\\_core.py\u001b[0m in \u001b[0;36mplot_series\u001b[1;34m(data, kind, ax, figsize, use_index, title, grid, legend, style, logx, logy, loglog, xticks, yticks, xlim, ylim, rot, fontsize, colormap, table, yerr, xerr, label, secondary_y, **kwds)\u001b[0m\n\u001b[0;32m   1996\u001b[0m                  \u001b[0myerr\u001b[0m\u001b[1;33m=\u001b[0m\u001b[0myerr\u001b[0m\u001b[1;33m,\u001b[0m \u001b[0mxerr\u001b[0m\u001b[1;33m=\u001b[0m\u001b[0mxerr\u001b[0m\u001b[1;33m,\u001b[0m\u001b[1;33m\u001b[0m\u001b[1;33m\u001b[0m\u001b[0m\n\u001b[0;32m   1997\u001b[0m                  \u001b[0mlabel\u001b[0m\u001b[1;33m=\u001b[0m\u001b[0mlabel\u001b[0m\u001b[1;33m,\u001b[0m \u001b[0msecondary_y\u001b[0m\u001b[1;33m=\u001b[0m\u001b[0msecondary_y\u001b[0m\u001b[1;33m,\u001b[0m\u001b[1;33m\u001b[0m\u001b[1;33m\u001b[0m\u001b[0m\n\u001b[1;32m-> 1998\u001b[1;33m                  **kwds)\n\u001b[0m\u001b[0;32m   1999\u001b[0m \u001b[1;33m\u001b[0m\u001b[0m\n\u001b[0;32m   2000\u001b[0m \u001b[1;33m\u001b[0m\u001b[0m\n",
      "\u001b[1;32m~\\Anaconda3\\lib\\site-packages\\pandas\\plotting\\_core.py\u001b[0m in \u001b[0;36m_plot\u001b[1;34m(data, x, y, subplots, ax, kind, **kwds)\u001b[0m\n\u001b[0;32m   1799\u001b[0m         \u001b[0mplot_obj\u001b[0m \u001b[1;33m=\u001b[0m \u001b[0mklass\u001b[0m\u001b[1;33m(\u001b[0m\u001b[0mdata\u001b[0m\u001b[1;33m,\u001b[0m \u001b[0msubplots\u001b[0m\u001b[1;33m=\u001b[0m\u001b[0msubplots\u001b[0m\u001b[1;33m,\u001b[0m \u001b[0max\u001b[0m\u001b[1;33m=\u001b[0m\u001b[0max\u001b[0m\u001b[1;33m,\u001b[0m \u001b[0mkind\u001b[0m\u001b[1;33m=\u001b[0m\u001b[0mkind\u001b[0m\u001b[1;33m,\u001b[0m \u001b[1;33m**\u001b[0m\u001b[0mkwds\u001b[0m\u001b[1;33m)\u001b[0m\u001b[1;33m\u001b[0m\u001b[1;33m\u001b[0m\u001b[0m\n\u001b[0;32m   1800\u001b[0m \u001b[1;33m\u001b[0m\u001b[0m\n\u001b[1;32m-> 1801\u001b[1;33m     \u001b[0mplot_obj\u001b[0m\u001b[1;33m.\u001b[0m\u001b[0mgenerate\u001b[0m\u001b[1;33m(\u001b[0m\u001b[1;33m)\u001b[0m\u001b[1;33m\u001b[0m\u001b[1;33m\u001b[0m\u001b[0m\n\u001b[0m\u001b[0;32m   1802\u001b[0m     \u001b[0mplot_obj\u001b[0m\u001b[1;33m.\u001b[0m\u001b[0mdraw\u001b[0m\u001b[1;33m(\u001b[0m\u001b[1;33m)\u001b[0m\u001b[1;33m\u001b[0m\u001b[1;33m\u001b[0m\u001b[0m\n\u001b[0;32m   1803\u001b[0m     \u001b[1;32mreturn\u001b[0m \u001b[0mplot_obj\u001b[0m\u001b[1;33m.\u001b[0m\u001b[0mresult\u001b[0m\u001b[1;33m\u001b[0m\u001b[1;33m\u001b[0m\u001b[0m\n",
      "\u001b[1;32m~\\Anaconda3\\lib\\site-packages\\pandas\\plotting\\_core.py\u001b[0m in \u001b[0;36mgenerate\u001b[1;34m(self)\u001b[0m\n\u001b[0;32m    247\u001b[0m     \u001b[1;32mdef\u001b[0m \u001b[0mgenerate\u001b[0m\u001b[1;33m(\u001b[0m\u001b[0mself\u001b[0m\u001b[1;33m)\u001b[0m\u001b[1;33m:\u001b[0m\u001b[1;33m\u001b[0m\u001b[1;33m\u001b[0m\u001b[0m\n\u001b[0;32m    248\u001b[0m         \u001b[0mself\u001b[0m\u001b[1;33m.\u001b[0m\u001b[0m_args_adjust\u001b[0m\u001b[1;33m(\u001b[0m\u001b[1;33m)\u001b[0m\u001b[1;33m\u001b[0m\u001b[1;33m\u001b[0m\u001b[0m\n\u001b[1;32m--> 249\u001b[1;33m         \u001b[0mself\u001b[0m\u001b[1;33m.\u001b[0m\u001b[0m_compute_plot_data\u001b[0m\u001b[1;33m(\u001b[0m\u001b[1;33m)\u001b[0m\u001b[1;33m\u001b[0m\u001b[1;33m\u001b[0m\u001b[0m\n\u001b[0m\u001b[0;32m    250\u001b[0m         \u001b[0mself\u001b[0m\u001b[1;33m.\u001b[0m\u001b[0m_setup_subplots\u001b[0m\u001b[1;33m(\u001b[0m\u001b[1;33m)\u001b[0m\u001b[1;33m\u001b[0m\u001b[1;33m\u001b[0m\u001b[0m\n\u001b[0;32m    251\u001b[0m         \u001b[0mself\u001b[0m\u001b[1;33m.\u001b[0m\u001b[0m_make_plot\u001b[0m\u001b[1;33m(\u001b[0m\u001b[1;33m)\u001b[0m\u001b[1;33m\u001b[0m\u001b[1;33m\u001b[0m\u001b[0m\n",
      "\u001b[1;32m~\\Anaconda3\\lib\\site-packages\\pandas\\plotting\\_core.py\u001b[0m in \u001b[0;36m_compute_plot_data\u001b[1;34m(self)\u001b[0m\n\u001b[0;32m    365\u001b[0m         \u001b[1;32mif\u001b[0m \u001b[0mis_empty\u001b[0m\u001b[1;33m:\u001b[0m\u001b[1;33m\u001b[0m\u001b[1;33m\u001b[0m\u001b[0m\n\u001b[0;32m    366\u001b[0m             raise TypeError('Empty {0!r}: no numeric data to '\n\u001b[1;32m--> 367\u001b[1;33m                             'plot'.format(numeric_data.__class__.__name__))\n\u001b[0m\u001b[0;32m    368\u001b[0m \u001b[1;33m\u001b[0m\u001b[0m\n\u001b[0;32m    369\u001b[0m         \u001b[0mself\u001b[0m\u001b[1;33m.\u001b[0m\u001b[0mdata\u001b[0m \u001b[1;33m=\u001b[0m \u001b[0mnumeric_data\u001b[0m\u001b[1;33m\u001b[0m\u001b[1;33m\u001b[0m\u001b[0m\n",
      "\u001b[1;31mTypeError\u001b[0m: Empty 'DataFrame': no numeric data to plot"
     ]
    }
   ],
   "source": [
    "top5_df.value.plot(figsize=(20,10),label='Values',color='blue',alpha=0.2)\n",
    "min_ = top5_df.groupby('time').aggregate({'value':'min'})\n",
    "max_ = top5_df.groupby('time').aggregate({'value':'max'})\n",
    "mean_ = top5_df.groupby('time').aggregate({'value':'mean'})\n",
    "plt.plot(min_, color= 'red',label='Min')\n",
    "plt.plot(max_, color='blue',label = 'Max')\n",
    "plt.plot(mean_, color= 'black',label= 'Mean')\n",
    "plt.legend()\n",
    "plt.title('Home Values In Top New York Zipcodes')\n",
    "plt.ylabel('Value')\n",
    "plt.show()\n",
    "# We can see that there is a low std and an overall positive trend"
   ]
  },
  {
   "cell_type": "markdown",
   "metadata": {},
   "source": [
    "Next, we will slice our dataframe so it only include data from 2008 onwards since data from before the financial crisis will not be helpful in forcasting models."
   ]
  },
  {
   "cell_type": "code",
   "execution_count": null,
   "metadata": {},
   "outputs": [],
   "source": [
    "# Slice the timeseries to contain data after year 2008. \n",
    "\n",
    "top5_post2008 = top5_df['2008':]\n",
    "top5_post2008.head()"
   ]
  },
  {
   "cell_type": "markdown",
   "metadata": {},
   "source": [
    "Now we will create a separate dataframe for each of the top 5 zipcodes we selected from our real estate criteria. "
   ]
  },
  {
   "cell_type": "code",
   "execution_count": null,
   "metadata": {},
   "outputs": [],
   "source": [
    "JacksonHeights = top5_post2008.loc[top5_post2008['RegionName']==11372]\n",
    "Elmhurst = top5_post2008.loc[top5_post2008['RegionName']==11373]\n",
    "BathBeach = top5_post2008.loc[top5_post2008['RegionName']==11214]\n",
    "BrightonBeach = top5_post2008.loc[top5_post2008['RegionName']==11235]\n",
    "Woodside = top5_post2008.loc[top5_post2008['RegionName']==11377]"
   ]
  },
  {
   "cell_type": "markdown",
   "metadata": {},
   "source": [
    "Let's see a preview of one of our new time series dataframes to make sure the format is optimal for analysis."
   ]
  },
  {
   "cell_type": "code",
   "execution_count": 58,
   "metadata": {},
   "outputs": [
    {
     "ename": "NameError",
     "evalue": "name 'JacksonHeights' is not defined",
     "output_type": "error",
     "traceback": [
      "\u001b[1;31m---------------------------------------------------------------------------\u001b[0m",
      "\u001b[1;31mNameError\u001b[0m                                 Traceback (most recent call last)",
      "\u001b[1;32m<ipython-input-58-e39536676e52>\u001b[0m in \u001b[0;36m<module>\u001b[1;34m\u001b[0m\n\u001b[1;32m----> 1\u001b[1;33m \u001b[0mJacksonHeights\u001b[0m\u001b[1;33m.\u001b[0m\u001b[0mhead\u001b[0m\u001b[1;33m(\u001b[0m\u001b[1;33m)\u001b[0m\u001b[1;33m\u001b[0m\u001b[1;33m\u001b[0m\u001b[0m\n\u001b[0m",
      "\u001b[1;31mNameError\u001b[0m: name 'JacksonHeights' is not defined"
     ]
    }
   ],
   "source": [
    "JacksonHeights.head()"
   ]
  },
  {
   "cell_type": "code",
   "execution_count": 59,
   "metadata": {},
   "outputs": [
    {
     "ename": "NameError",
     "evalue": "name 'JacksonHeights' is not defined",
     "output_type": "error",
     "traceback": [
      "\u001b[1;31m---------------------------------------------------------------------------\u001b[0m",
      "\u001b[1;31mNameError\u001b[0m                                 Traceback (most recent call last)",
      "\u001b[1;32m<ipython-input-59-9f833ecdc97e>\u001b[0m in \u001b[0;36m<module>\u001b[1;34m\u001b[0m\n\u001b[1;32m----> 1\u001b[1;33m \u001b[0mJacksonHeights\u001b[0m\u001b[1;33m.\u001b[0m\u001b[0mdrop\u001b[0m\u001b[1;33m(\u001b[0m\u001b[0mcolumns\u001b[0m\u001b[1;33m=\u001b[0m\u001b[1;33m[\u001b[0m\u001b[1;34m'RegionID'\u001b[0m\u001b[1;33m,\u001b[0m \u001b[1;34m'City'\u001b[0m\u001b[1;33m,\u001b[0m \u001b[1;34m'State'\u001b[0m\u001b[1;33m,\u001b[0m \u001b[1;34m'Metro'\u001b[0m\u001b[1;33m,\u001b[0m \u001b[1;34m'SizeRank'\u001b[0m\u001b[1;33m,\u001b[0m \u001b[1;34m'CountyName'\u001b[0m\u001b[1;33m]\u001b[0m\u001b[1;33m,\u001b[0m \u001b[0minplace\u001b[0m\u001b[1;33m=\u001b[0m\u001b[1;32mTrue\u001b[0m\u001b[1;33m)\u001b[0m\u001b[1;33m\u001b[0m\u001b[1;33m\u001b[0m\u001b[0m\n\u001b[0m\u001b[0;32m      2\u001b[0m \u001b[0mJacksonHeights\u001b[0m\u001b[1;33m[\u001b[0m\u001b[1;34m'time'\u001b[0m\u001b[1;33m]\u001b[0m \u001b[1;33m=\u001b[0m \u001b[0mJacksonHeights\u001b[0m\u001b[1;33m.\u001b[0m\u001b[0mindex\u001b[0m\u001b[1;33m\u001b[0m\u001b[1;33m\u001b[0m\u001b[0m\n\u001b[0;32m      3\u001b[0m \u001b[0mJacksonHeights\u001b[0m\u001b[1;33m.\u001b[0m\u001b[0mset_index\u001b[0m\u001b[1;33m(\u001b[0m\u001b[1;34m'time'\u001b[0m\u001b[1;33m,\u001b[0m  \u001b[0minplace\u001b[0m \u001b[1;33m=\u001b[0m \u001b[1;32mTrue\u001b[0m\u001b[1;33m)\u001b[0m\u001b[1;33m\u001b[0m\u001b[1;33m\u001b[0m\u001b[0m\n",
      "\u001b[1;31mNameError\u001b[0m: name 'JacksonHeights' is not defined"
     ]
    }
   ],
   "source": [
    "JacksonHeights.drop(columns=['RegionID', 'City', 'State', 'Metro', 'SizeRank', 'CountyName'], inplace=True)\n",
    "JacksonHeights['time'] = JacksonHeights.index\n",
    "JacksonHeights.set_index('time',  inplace = True)"
   ]
  },
  {
   "cell_type": "code",
   "execution_count": 60,
   "metadata": {},
   "outputs": [
    {
     "ename": "NameError",
     "evalue": "name 'Elmhurst' is not defined",
     "output_type": "error",
     "traceback": [
      "\u001b[1;31m---------------------------------------------------------------------------\u001b[0m",
      "\u001b[1;31mNameError\u001b[0m                                 Traceback (most recent call last)",
      "\u001b[1;32m<ipython-input-60-b4b24ab1ab8b>\u001b[0m in \u001b[0;36m<module>\u001b[1;34m\u001b[0m\n\u001b[1;32m----> 1\u001b[1;33m \u001b[0mElmhurst\u001b[0m\u001b[1;33m.\u001b[0m\u001b[0mdrop\u001b[0m\u001b[1;33m(\u001b[0m\u001b[0mcolumns\u001b[0m\u001b[1;33m=\u001b[0m\u001b[1;33m[\u001b[0m\u001b[1;34m'RegionID'\u001b[0m\u001b[1;33m,\u001b[0m \u001b[1;34m'City'\u001b[0m\u001b[1;33m,\u001b[0m \u001b[1;34m'State'\u001b[0m\u001b[1;33m,\u001b[0m \u001b[1;34m'Metro'\u001b[0m\u001b[1;33m,\u001b[0m \u001b[1;34m'SizeRank'\u001b[0m\u001b[1;33m,\u001b[0m \u001b[1;34m'CountyName'\u001b[0m\u001b[1;33m]\u001b[0m\u001b[1;33m,\u001b[0m \u001b[0minplace\u001b[0m\u001b[1;33m=\u001b[0m\u001b[1;32mTrue\u001b[0m\u001b[1;33m)\u001b[0m\u001b[1;33m\u001b[0m\u001b[1;33m\u001b[0m\u001b[0m\n\u001b[0m\u001b[0;32m      2\u001b[0m \u001b[0mElmhurst\u001b[0m\u001b[1;33m[\u001b[0m\u001b[1;34m'time'\u001b[0m\u001b[1;33m]\u001b[0m \u001b[1;33m=\u001b[0m \u001b[0mElmhurst\u001b[0m\u001b[1;33m.\u001b[0m\u001b[0mindex\u001b[0m\u001b[1;33m\u001b[0m\u001b[1;33m\u001b[0m\u001b[0m\n\u001b[0;32m      3\u001b[0m \u001b[0mElmhurst\u001b[0m\u001b[1;33m.\u001b[0m\u001b[0mset_index\u001b[0m\u001b[1;33m(\u001b[0m\u001b[1;34m'time'\u001b[0m\u001b[1;33m,\u001b[0m  \u001b[0minplace\u001b[0m \u001b[1;33m=\u001b[0m \u001b[1;32mTrue\u001b[0m\u001b[1;33m)\u001b[0m\u001b[1;33m\u001b[0m\u001b[1;33m\u001b[0m\u001b[0m\n",
      "\u001b[1;31mNameError\u001b[0m: name 'Elmhurst' is not defined"
     ]
    }
   ],
   "source": [
    "Elmhurst.drop(columns=['RegionID', 'City', 'State', 'Metro', 'SizeRank', 'CountyName'], inplace=True)\n",
    "Elmhurst['time'] = Elmhurst.index\n",
    "Elmhurst.set_index('time',  inplace = True)"
   ]
  },
  {
   "cell_type": "code",
   "execution_count": null,
   "metadata": {},
   "outputs": [],
   "source": [
    "BathBeach.drop(columns=['RegionID', 'City', 'State', 'Metro', 'SizeRank', 'CountyName'], inplace=True)\n",
    "BathBeach['time'] = BathBeach.index\n",
    "BathBeach.set_index('time',  inplace = True)"
   ]
  },
  {
   "cell_type": "code",
   "execution_count": null,
   "metadata": {},
   "outputs": [],
   "source": [
    "BrightonBeach.drop(columns=['RegionID', 'City', 'State', 'Metro', 'SizeRank', 'CountyName'], inplace=True)\n",
    "BrightonBeach['time'] = BrightonBeach.index\n",
    "BrightonBeach.set_index('time',  inplace = True)"
   ]
  },
  {
   "cell_type": "code",
   "execution_count": null,
   "metadata": {},
   "outputs": [],
   "source": [
    "Woodside.drop(columns=['RegionID', 'City', 'State', 'Metro', 'SizeRank', 'CountyName'], inplace=True)\n",
    "Woodside['time'] = Woodside.index\n",
    "Woodside.set_index('time',  inplace = True)"
   ]
  },
  {
   "cell_type": "code",
   "execution_count": null,
   "metadata": {},
   "outputs": [],
   "source": [
    "Woodside.info()"
   ]
  },
  {
   "cell_type": "markdown",
   "metadata": {},
   "source": [
    "## Split into Training/Test Sets"
   ]
  },
  {
   "cell_type": "markdown",
   "metadata": {},
   "source": [
    "Next, let's split each of our datasets into a training set and a testing set in a 80% to 20% ratio which we will use to generate and validate our model."
   ]
  },
  {
   "cell_type": "code",
   "execution_count": null,
   "metadata": {},
   "outputs": [],
   "source": [
    "# # Confirm how many periods are covered by the dataset\n",
    "# n = len(JacksonHeights)\n",
    "# training_n = int(n*0.8)\n",
    "# print('Number of Obs Training Set: ', training_n)\n",
    "# print('Number of Obs Test Set: ', n - training_n)"
   ]
  },
  {
   "cell_type": "code",
   "execution_count": null,
   "metadata": {},
   "outputs": [],
   "source": [
    "# training_n"
   ]
  },
  {
   "cell_type": "code",
   "execution_count": null,
   "metadata": {},
   "outputs": [],
   "source": [
    "# def train_test_split(data):\n",
    "    \n",
    "#     train = []\n",
    "#     test = []\n",
    "    \n",
    "    \n",
    "#     for i in range(0, len(data)):\n",
    "#     #Split datasets into training and testing\n",
    "#         train_df = data.iloc[:99]\n",
    "#         test_df = data.iloc[99:]\n",
    "    \n",
    "#     #Append training and test datasets to list\n",
    "#         train.append(train_df)\n",
    "#         test.append(test_df)\n",
    "#     return train, test"
   ]
  },
  {
   "cell_type": "code",
   "execution_count": 49,
   "metadata": {},
   "outputs": [],
   "source": [
    "# # The dataset for each zipcode is split into a training and testing set\n",
    "# JH_train, JH_test = train_test_split(JacksonHeights)\n",
    "# Elm_train, Elm_test = train_test_split(Elmhurst)\n",
    "# Bath_train, Bath_test = train_test_split(BathBeach)\n",
    "# Bright_train, Bright_test = train_test_split(BrightonBeach)\n",
    "# WS_train, WS_test = train_test_split(Woodside)"
   ]
  },
  {
   "cell_type": "code",
   "execution_count": 50,
   "metadata": {},
   "outputs": [],
   "source": [
    "# len(JH_train)"
   ]
  },
  {
   "cell_type": "markdown",
   "metadata": {},
   "source": [
    "## Check for Stationarity"
   ]
  },
  {
   "cell_type": "markdown",
   "metadata": {},
   "source": [
    "When working with time series data, most models work on the assumption that the data is **stationary**. This means it's statistical properties (i.e. mean, variance, autocorrelation) remain constant over time. Next we will check to see if our data is stationary or if it shows any trends. \n",
    "<br/><br/>\n",
    "We can do this visually and by using the Dickey-Fuller Test."
   ]
  },
  {
   "cell_type": "code",
   "execution_count": 51,
   "metadata": {},
   "outputs": [],
   "source": [
    "#This function is used to address stationarity per zipcode\n",
    "\n",
    "def stationarityTest(df):\n",
    "    \"\"\"\n",
    "    ts is the time series with time as index and target variable\n",
    "    wd is the window for the rolling statistics test\n",
    "    zipcode is the zipcode under analysis\n",
    "    \"\"\"\n",
    "    \n",
    "    rolmean = df.rolling(window = 12, center = False).mean()\n",
    "    rolstd = tsZip.rolling(window = 12, center = False).std()\n",
    "    #plot rolling mean and std against original time series\n",
    "    fig = plt.figure(figsize = (14, 7))\n",
    "    orig = plt.plot(df, color ='blue', label = 'Original')\n",
    "    mean = plt.plot(rolmean, color ='red', label ='Rolling Mean')\n",
    "    std = plt.plot(rolstd, color ='black', label ='Rolling Std')\n",
    "    plt.legend(loc ='best')\n",
    "    plt.title('Rolling Mean & Standard Deviation')\n",
    "    plt.show()\n",
    "    \n",
    "    #Dickey Fuller test only accepts 1d series, therefore we pass the values column only\n",
    "    dftest = adfuller(df['value'])\n",
    "    dfoutput = pd.Series(dftest[0:4], index =['Test Statistic',\n",
    "                                             'p-value',\n",
    "                                             '#Lags Used',\n",
    "                                             'Number of observation'])\n",
    "    for key, value in dftest[4].items():\n",
    "        dfoutput['Critical Value(%s)'%key] = value\n",
    "    return(dfoutput)"
   ]
  },
  {
   "cell_type": "code",
   "execution_count": 52,
   "metadata": {},
   "outputs": [
    {
     "ename": "NameError",
     "evalue": "name 'JacksonHeights' is not defined",
     "output_type": "error",
     "traceback": [
      "\u001b[1;31m---------------------------------------------------------------------------\u001b[0m",
      "\u001b[1;31mNameError\u001b[0m                                 Traceback (most recent call last)",
      "\u001b[1;32m<ipython-input-52-e64c12d47162>\u001b[0m in \u001b[0;36m<module>\u001b[1;34m\u001b[0m\n\u001b[1;32m----> 1\u001b[1;33m \u001b[0mJacksonHeights\u001b[0m\u001b[1;33m.\u001b[0m\u001b[0minfo\u001b[0m\u001b[1;33m(\u001b[0m\u001b[1;33m)\u001b[0m\u001b[1;33m\u001b[0m\u001b[1;33m\u001b[0m\u001b[0m\n\u001b[0m",
      "\u001b[1;31mNameError\u001b[0m: name 'JacksonHeights' is not defined"
     ]
    }
   ],
   "source": [
    "JacksonHeights.info()"
   ]
  },
  {
   "cell_type": "code",
   "execution_count": 53,
   "metadata": {},
   "outputs": [],
   "source": [
    "#Get a list of zipcodes in the selected cities\n",
    "ziplist = list(top5_df['RegionName'].unique())"
   ]
  },
  {
   "cell_type": "code",
   "execution_count": 54,
   "metadata": {},
   "outputs": [
    {
     "ename": "NameError",
     "evalue": "name 'JacksonHeights' is not defined",
     "output_type": "error",
     "traceback": [
      "\u001b[1;31m---------------------------------------------------------------------------\u001b[0m",
      "\u001b[1;31mNameError\u001b[0m                                 Traceback (most recent call last)",
      "\u001b[1;32m<ipython-input-54-0bb346c868df>\u001b[0m in \u001b[0;36m<module>\u001b[1;34m\u001b[0m\n\u001b[1;32m----> 1\u001b[1;33m \u001b[0mstationarityTest\u001b[0m\u001b[1;33m(\u001b[0m\u001b[0mJacksonHeights\u001b[0m\u001b[1;33m)\u001b[0m\u001b[1;33m\u001b[0m\u001b[1;33m\u001b[0m\u001b[0m\n\u001b[0m",
      "\u001b[1;31mNameError\u001b[0m: name 'JacksonHeights' is not defined"
     ]
    }
   ],
   "source": [
    "stationarityTest(JacksonHeights)"
   ]
  },
  {
   "cell_type": "code",
   "execution_count": null,
   "metadata": {},
   "outputs": [],
   "source": []
  },
  {
   "cell_type": "code",
   "execution_count": null,
   "metadata": {},
   "outputs": [],
   "source": []
  },
  {
   "cell_type": "code",
   "execution_count": null,
   "metadata": {},
   "outputs": [],
   "source": []
  },
  {
   "cell_type": "code",
   "execution_count": 1141,
   "metadata": {},
   "outputs": [
    {
     "ename": "NameError",
     "evalue": "name 'zip_df' is not defined",
     "output_type": "error",
     "traceback": [
      "\u001b[1;31m---------------------------------------------------------------------------\u001b[0m",
      "\u001b[1;31mNameError\u001b[0m                                 Traceback (most recent call last)",
      "\u001b[1;32m<ipython-input-1141-81ca351dc139>\u001b[0m in \u001b[0;36m<module>\u001b[1;34m\u001b[0m\n\u001b[0;32m      6\u001b[0m \u001b[1;33m\u001b[0m\u001b[0m\n\u001b[0;32m      7\u001b[0m \u001b[1;32mfor\u001b[0m \u001b[0mz\u001b[0m \u001b[1;32min\u001b[0m \u001b[0mzipcodes\u001b[0m\u001b[1;33m:\u001b[0m\u001b[1;33m\u001b[0m\u001b[1;33m\u001b[0m\u001b[0m\n\u001b[1;32m----> 8\u001b[1;33m     \u001b[0mdf_z\u001b[0m \u001b[1;33m=\u001b[0m \u001b[0mzip_df\u001b[0m\u001b[1;33m[\u001b[0m\u001b[0mzip_df\u001b[0m\u001b[1;33m.\u001b[0m\u001b[0mRegionName\u001b[0m \u001b[1;33m==\u001b[0m \u001b[0mz\u001b[0m\u001b[1;33m]\u001b[0m\u001b[1;33m\u001b[0m\u001b[1;33m\u001b[0m\u001b[0m\n\u001b[0m\u001b[0;32m      9\u001b[0m     \u001b[0mresult\u001b[0m \u001b[1;33m=\u001b[0m \u001b[0madfuller\u001b[0m\u001b[1;33m(\u001b[0m\u001b[0mdf_z\u001b[0m\u001b[1;33m.\u001b[0m\u001b[0mvalue\u001b[0m\u001b[1;33m.\u001b[0m\u001b[0mdropna\u001b[0m\u001b[1;33m(\u001b[0m\u001b[1;33m)\u001b[0m\u001b[1;33m)\u001b[0m\u001b[1;33m\u001b[0m\u001b[1;33m\u001b[0m\u001b[0m\n\u001b[0;32m     10\u001b[0m     \u001b[0mprint\u001b[0m\u001b[1;33m(\u001b[0m\u001b[1;34m'Zip: '\u001b[0m\u001b[1;33m,\u001b[0m \u001b[0mz\u001b[0m\u001b[1;33m)\u001b[0m\u001b[1;33m\u001b[0m\u001b[1;33m\u001b[0m\u001b[0m\n",
      "\u001b[1;31mNameError\u001b[0m: name 'zip_df' is not defined"
     ]
    }
   ],
   "source": [
    "# test each zipcode for stationarity using the AD Fuller Test.\n",
    "zipcodes = top5_df.RegionName.sort_values().unique()\n",
    "\n",
    "from statsmodels.tsa.stattools import adfuller\n",
    "from numpy import log\n",
    "\n",
    "for z in zipcodes: \n",
    "    df_z = top5_df[top5_df.RegionName == z]\n",
    "    result = adfuller(top5_df.value.dropna())\n",
    "    print('Zip: ', z)\n",
    "    print('ADF Statistic: %f' % result[0])\n",
    "    print('p-value: %f' % result[1])"
   ]
  },
  {
   "cell_type": "code",
   "execution_count": null,
   "metadata": {},
   "outputs": [],
   "source": []
  },
  {
   "cell_type": "code",
   "execution_count": null,
   "metadata": {},
   "outputs": [],
   "source": [
    "data_diff = tsZip.diff(periods=12)\n"
   ]
  },
  {
   "cell_type": "markdown",
   "metadata": {},
   "source": [
    "## Check for Seasonality"
   ]
  },
  {
   "cell_type": "code",
   "execution_count": null,
   "metadata": {},
   "outputs": [],
   "source": []
  },
  {
   "cell_type": "code",
   "execution_count": null,
   "metadata": {},
   "outputs": [],
   "source": []
  },
  {
   "cell_type": "markdown",
   "metadata": {},
   "source": [
    "# ARIMA and SARIMA Modeling"
   ]
  },
  {
   "cell_type": "markdown",
   "metadata": {},
   "source": [
    "## ACP and PACF "
   ]
  },
  {
   "cell_type": "code",
   "execution_count": null,
   "metadata": {},
   "outputs": [],
   "source": []
  },
  {
   "cell_type": "code",
   "execution_count": null,
   "metadata": {},
   "outputs": [],
   "source": []
  },
  {
   "cell_type": "code",
   "execution_count": null,
   "metadata": {},
   "outputs": [],
   "source": []
  },
  {
   "cell_type": "markdown",
   "metadata": {},
   "source": []
  },
  {
   "cell_type": "code",
   "execution_count": null,
   "metadata": {},
   "outputs": [],
   "source": []
  },
  {
   "cell_type": "code",
   "execution_count": null,
   "metadata": {},
   "outputs": [],
   "source": []
  },
  {
   "cell_type": "code",
   "execution_count": null,
   "metadata": {},
   "outputs": [],
   "source": []
  },
  {
   "cell_type": "code",
   "execution_count": null,
   "metadata": {},
   "outputs": [],
   "source": []
  },
  {
   "cell_type": "code",
   "execution_count": null,
   "metadata": {},
   "outputs": [],
   "source": []
  },
  {
   "cell_type": "markdown",
   "metadata": {},
   "source": [
    "## ARIMA Modeling"
   ]
  },
  {
   "cell_type": "code",
   "execution_count": 8,
   "metadata": {},
   "outputs": [],
   "source": [
    "# Define the p, d and q parameters to take any value between 0 and 1\n",
    "p = d = q = range(0,2)\n",
    "\n",
    "# Generate all different combinations of p, q and q triplets\n",
    "pdq = list(itertools.product(p,d,q))\n",
    "\n",
    "# Generate all different combinations of seasonal p, q and q triplets (use 12 for frequency)\n",
    "pdqs = [(x[0],x[1],x[2],12) for x in pdq]"
   ]
  },
  {
   "cell_type": "code",
   "execution_count": null,
   "metadata": {},
   "outputs": [],
   "source": []
  },
  {
   "cell_type": "code",
   "execution_count": null,
   "metadata": {},
   "outputs": [],
   "source": []
  },
  {
   "cell_type": "code",
   "execution_count": null,
   "metadata": {},
   "outputs": [],
   "source": []
  },
  {
   "cell_type": "code",
   "execution_count": null,
   "metadata": {},
   "outputs": [],
   "source": []
  },
  {
   "cell_type": "markdown",
   "metadata": {},
   "source": [
    "## Forecasting"
   ]
  },
  {
   "cell_type": "code",
   "execution_count": null,
   "metadata": {},
   "outputs": [],
   "source": []
  },
  {
   "cell_type": "code",
   "execution_count": null,
   "metadata": {},
   "outputs": [],
   "source": []
  },
  {
   "cell_type": "code",
   "execution_count": null,
   "metadata": {},
   "outputs": [],
   "source": []
  },
  {
   "cell_type": "markdown",
   "metadata": {},
   "source": [
    "## SARIMA Modeling"
   ]
  },
  {
   "cell_type": "code",
   "execution_count": null,
   "metadata": {},
   "outputs": [],
   "source": []
  },
  {
   "cell_type": "code",
   "execution_count": null,
   "metadata": {},
   "outputs": [],
   "source": []
  },
  {
   "cell_type": "code",
   "execution_count": null,
   "metadata": {},
   "outputs": [],
   "source": []
  },
  {
   "cell_type": "code",
   "execution_count": null,
   "metadata": {},
   "outputs": [],
   "source": []
  },
  {
   "cell_type": "code",
   "execution_count": null,
   "metadata": {},
   "outputs": [],
   "source": []
  },
  {
   "cell_type": "markdown",
   "metadata": {},
   "source": [
    "# Results/Business Recommendations"
   ]
  },
  {
   "cell_type": "code",
   "execution_count": null,
   "metadata": {},
   "outputs": [],
   "source": []
  },
  {
   "cell_type": "markdown",
   "metadata": {},
   "source": [
    "# Future Work"
   ]
  },
  {
   "cell_type": "code",
   "execution_count": null,
   "metadata": {},
   "outputs": [],
   "source": []
  }
 ],
 "metadata": {
  "kernelspec": {
   "display_name": "Python 3",
   "language": "python",
   "name": "python3"
  },
  "language_info": {
   "codemirror_mode": {
    "name": "ipython",
    "version": 3
   },
   "file_extension": ".py",
   "mimetype": "text/x-python",
   "name": "python",
   "nbconvert_exporter": "python",
   "pygments_lexer": "ipython3",
   "version": "3.7.3"
  },
  "toc": {
   "base_numbering": 1,
   "nav_menu": {},
   "number_sections": false,
   "sideBar": true,
   "skip_h1_title": false,
   "title_cell": "Table of Contents",
   "title_sidebar": "Contents",
   "toc_cell": false,
   "toc_position": {},
   "toc_section_display": true,
   "toc_window_display": true
  }
 },
 "nbformat": 4,
 "nbformat_minor": 2
}
